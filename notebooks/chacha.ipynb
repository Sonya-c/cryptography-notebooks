{
 "cells": [
  {
   "cell_type": "markdown",
   "metadata": {},
   "source": [
    "# Chacha"
   ]
  },
  {
   "cell_type": "code",
   "execution_count": 1,
   "metadata": {},
   "outputs": [],
   "source": [
    "from typing import Tuple, List\n",
    "from scripts.utils import split_words, join_words, text_to_int, sum32"
   ]
  },
  {
   "cell_type": "markdown",
   "metadata": {},
   "source": [
    "## Pad"
   ]
  },
  {
   "cell_type": "code",
   "execution_count": 2,
   "metadata": {},
   "outputs": [],
   "source": [
    "_c = [0x61707865, 0x3320646e, 0x79622d32, 0x6b206574]\n",
    "\n",
    "def pad(s: int, j: int, n: int) -> int:\n",
    "    \"\"\"Una función que combina una semilla s de 256 bits, un contador j de 64 bits (j0 y j1 de 32bits), y un ruido (nonce) n de 64 bits (n0 y n1 de 32 bits) para formar un bloque de 512 bits\n",
    "\n",
    "    Args:\n",
    "        s: Seed (256 bits, 8 palabras de 32 bits)\n",
    "        j: counter (64 bits)\n",
    "        n: Nonce (64 bits)\n",
    "\n",
    "    Returns:\n",
    "        512 bits (16 palabras de 32 bits)\n",
    "    \"\"\"\n",
    "\n",
    "    s = split_words(s, 32 // 8, 8)\n",
    "    j = split_words(j, 32 // 8, 2)\n",
    "    n = split_words(n, 32 // 8, 2)\n",
    "\n",
    "    return [\n",
    "        _c[0], _c[1], _c[2], _c[3],\n",
    "        s[0], s[1], s[2], s[3],\n",
    "        s[4], s[5], s[6], s[7],\n",
    "        j[0], j[1], n[0], n[1]\n",
    "    ]"
   ]
  },
  {
   "cell_type": "code",
   "execution_count": 3,
   "metadata": {},
   "outputs": [],
   "source": [
    "assert(\n",
    "    pad(0x47f515b1dd45f8d5aceea73b52971be21f7b4b3355a35fd6a2799898ed2f8c97,\n",
    "    0x722d9d570ac23201,\n",
    "    0xed539cd99e1d2f20) ==\n",
    "    \n",
    "    [0x61707865, 0x3320646e, 0x79622d32, 0x6b206574,\n",
    "    0x47f515b1, 0xdd45f8d5, 0xaceea73b, 0x52971be2,\n",
    "    0x1f7b4b33, 0x55a35fd6, 0xa2799898, 0xed2f8c97,\n",
    "    0x722d9d57, 0x0ac23201, 0xed539cd9, 0x9e1d2f20]\n",
    "), \"Error\""
   ]
  },
  {
   "cell_type": "markdown",
   "metadata": {},
   "source": [
    "## Permutación publica"
   ]
  },
  {
   "cell_type": "markdown",
   "metadata": {},
   "source": [
    "### Cuarto de rondas"
   ]
  },
  {
   "cell_type": "code",
   "execution_count": 4,
   "metadata": {},
   "outputs": [],
   "source": [
    "def rot(w: int, r: int) -> int: \n",
    "    \"\"\"No se queda hace\n",
    "\n",
    "    Args:\n",
    "        w: palabra \n",
    "        r: No me acuerdo\n",
    "    \"\"\"\n",
    "\n",
    "    mask = 0xffffffff\n",
    "    return ((w << r) & mask) | (w >> (32 - r))\n",
    "\n",
    "def QR(a: int, b: int, c: int, d: int) -> Tuple[int, int, int, int]:\n",
    "    \"\"\"Cuarto de ronda\n",
    "\n",
    "    Args:\n",
    "        a (int): palabra\n",
    "        b (int): palabra\n",
    "        c (int): palabra\n",
    "        d (int): palabra\n",
    "\n",
    "    Returns:\n",
    "        Tuple[int, int, int, int]: sequencia de 4 palabras\n",
    "    \"\"\"\n",
    "    a = sum32(a, b)\n",
    "    d = d ^ a \n",
    "    d = rot(d, 16)\n",
    "\n",
    "    c = sum32(c, d)\n",
    "    b = b ^ c\n",
    "    b = rot(b, 12)\n",
    "\n",
    "    a = sum32(a, b)\n",
    "    d = d ^ a\n",
    "    d = rot(d, 8)\n",
    "\n",
    "    c = sum32(c, d)\n",
    "    b = b ^ c\n",
    "    b = rot(b, 7)\n",
    "    \n",
    "    return a, b, c, d"
   ]
  },
  {
   "cell_type": "code",
   "execution_count": 5,
   "metadata": {},
   "outputs": [],
   "source": [
    "assert(\n",
    "    QR(0xc2619378, 0xecdaec96, 0xe62bd0c8, 0x2b61be56) ==\n",
    "    (0x9ad7bc93, 0x130fa62c, 0xb3bd23c9, 0x8f38cea4)\n",
    "), \"Error\""
   ]
  },
  {
   "cell_type": "markdown",
   "metadata": {},
   "source": [
    "### Ronda"
   ]
  },
  {
   "cell_type": "code",
   "execution_count": 6,
   "metadata": {},
   "outputs": [],
   "source": [
    "def round(i):\n",
    "    i[0], i[4], i[8], i[12] = QR(i[0], i[4], i[8], i[12])\n",
    "    i[1], i[5], i[9], i[13] = QR(i[1], i[5], i[9], i[13])\n",
    "    i[2], i[6], i[10], i[14] = QR(i[2], i[6], i[10], i[14])\n",
    "    i[3], i[7], i[11], i[15] = QR(i[3], i[7], i[11], i[15])\n",
    "\n",
    "    i[0], i[5], i[10], i[15] = QR(i[0], i[5], i[10], i[15])\n",
    "    i[1], i[6], i[11], i[12] = QR(i[1], i[6], i[11], i[12])\n",
    "    i[2], i[7], i[8], i[13] = QR(i[2], i[7], i[8], i[13])\n",
    "    i[3], i[4], i[9], i[14] = QR(i[3], i[4], i[9], i[14])\n",
    "\n",
    "    return i"
   ]
  },
  {
   "cell_type": "markdown",
   "metadata": {},
   "source": [
    "### Permutación"
   ]
  },
  {
   "cell_type": "code",
   "execution_count": 7,
   "metadata": {},
   "outputs": [],
   "source": [
    "\n",
    "def perm(x: int, ROUNDS: int = 20): \n",
    "    \"\"\"Permutación\n",
    "\n",
    "    Args:\n",
    "        x: 512 bits (16 palabras 32 bits)\n",
    "        ROUNDS: Número de rondas\n",
    "            - 20 (ChaCha20/20)\n",
    "            - 8 (ChaCha20/8)\n",
    "            - 12 (ChaCha20/12)\n",
    "            \n",
    "    Returns:\n",
    "        512 bits (16 palabras 32 bits)\n",
    "    \"\"\"\n",
    "    assert(ROUNDS in [8, 12, 20]), \"Invalid number of rounds\"\n",
    "    \n",
    "    i = x.copy()\n",
    "    \n",
    "    for _ in range(0, ROUNDS, 2): \n",
    "        round(i)\n",
    "    return i\n"
   ]
  },
  {
   "cell_type": "code",
   "execution_count": 8,
   "metadata": {},
   "outputs": [],
   "source": [
    "s = 0x47f515b1dd45f8d5aceea73b52971be21f7b4b3355a35fd6a2799898ed2f8c97\n",
    "j = 0x722d9d570ac23201\n",
    "n = 0xed539cd99e1d2f20\n",
    "\n",
    "_pad = pad(s, j, n)\n",
    "\n",
    "assert(join_words(perm(_pad), 32 // 8) == 0xc9ead123f6eee2042ce8442128342dcdddec68c9446ec082de92f642f498c0a843d9d8d27c44c2bd1945edeb3411fa78fffb0e607ec9ec17b7a5cfae23663818)"
   ]
  },
  {
   "cell_type": "markdown",
   "metadata": {},
   "source": [
    "## Generador psudoaleatorio"
   ]
  },
  {
   "cell_type": "code",
   "execution_count": 9,
   "metadata": {},
   "outputs": [],
   "source": [
    "L = 1 # \n",
    "def G(s: int, n: int):\n",
    "    r = [0]*L\n",
    "\n",
    "    for j in range(L):\n",
    "        h = pad(s, j, n) # 512 bits\n",
    "        pi = perm(h) # 512 bits\n",
    "\n",
    "        r[j] = [0]*16\n",
    "        for i in range(16):\n",
    "           r[j] = join_words(pi, 32) + join_words(h, 32)\n",
    "           \n",
    "    return r"
   ]
  },
  {
   "cell_type": "markdown",
   "metadata": {},
   "source": [
    "## Cifrado y decifrado"
   ]
  },
  {
   "cell_type": "code",
   "execution_count": 10,
   "metadata": {},
   "outputs": [],
   "source": [
    "k = G(0x112233445566778899aabbccddeeff00, 0x0123456789abcdef)[0]\n",
    "m = text_to_int(\"Hola mundo\")\n",
    "c = m ^ k\n",
    "assert(c ^ k == m), \"Error\""
   ]
  },
  {
   "cell_type": "markdown",
   "metadata": {},
   "source": [
    "## References\n",
    "- Class notes \n",
    "- [ChaCha, a variant of Salsa20 - Daniel J. Bernstein](https://cr.yp.to/chacha/chacha-20080128.pdf)"
   ]
  }
 ],
 "metadata": {
  "kernelspec": {
   "display_name": "Python 3",
   "language": "python",
   "name": "python3"
  },
  "language_info": {
   "codemirror_mode": {
    "name": "ipython",
    "version": 3
   },
   "file_extension": ".py",
   "mimetype": "text/x-python",
   "name": "python",
   "nbconvert_exporter": "python",
   "pygments_lexer": "ipython3",
   "version": "3.12.1"
  }
 },
 "nbformat": 4,
 "nbformat_minor": 2
}
