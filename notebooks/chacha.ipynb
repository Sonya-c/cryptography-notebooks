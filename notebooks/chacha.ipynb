{
 "cells": [
  {
   "cell_type": "markdown",
   "metadata": {},
   "source": [
    "# Chacha"
   ]
  },
  {
   "cell_type": "code",
   "execution_count": 8,
   "metadata": {},
   "outputs": [],
   "source": [
    "from typing import List, Tuple\n",
    "from scripts.utils import *\n",
    "from scripts.math import sum32"
   ]
  },
  {
   "cell_type": "markdown",
   "metadata": {},
   "source": [
    "## Pad function"
   ]
  },
  {
   "cell_type": "code",
   "execution_count": 9,
   "metadata": {},
   "outputs": [],
   "source": [
    "_c = [0x61707865, 0x3320646e, 0x79622d32, 0x6b206574]\n",
    "\n",
    "def pad(s: int, j: int, n: int) -> int:\n",
    "    \"\"\"A padding function that combies a 256 bits seed s with a 64 bit counter j (j0, j1 of 32 bits) and a b4 bit nonce (n0, n1 of 32 bits) to form a 512 bit block denoted x0, ..., x15 of 32 bits\n",
    "    \n",
    "    Args:\n",
    "        s: Seed (256 bits, 8 words of 32 bits)\n",
    "        j: counter (64 bits)\n",
    "        n: Nonce (64 bits)\n",
    "\n",
    "    Returns:\n",
    "        512 bits (16 words 32 bits)\n",
    "    \"\"\"\n",
    "\n",
    "    # Convert to words\n",
    "    s = to_words(s, 32, 8)\n",
    "    j = to_words(j, 32, 2)\n",
    "    n = to_words(n, 32, 2)\n",
    "\n",
    "    return [\n",
    "        _c[0], _c[1], _c[2], _c[3],\n",
    "        s[0], s[1], s[2], s[3],\n",
    "        s[4], s[5], s[6], s[7],\n",
    "        j[0], j[1], n[0], n[1]\n",
    "    ]"
   ]
  },
  {
   "cell_type": "markdown",
   "metadata": {},
   "source": [
    "## Public permutation"
   ]
  },
  {
   "cell_type": "markdown",
   "metadata": {},
   "source": [
    "### Quarterround function"
   ]
  },
  {
   "cell_type": "code",
   "execution_count": 10,
   "metadata": {},
   "outputs": [],
   "source": [
    "def rot(w: int, r: int) -> int: \n",
    "    \"\"\"Rotate lest for 32 bits\n",
    "\n",
    "    Args:\n",
    "        w: word to rotate\n",
    "        r: I dont remember\n",
    "    \"\"\"\n",
    "\n",
    "    mask = 0xffffffff\n",
    "    return ((w << r) & mask) | (w >> (32 - r)) "
   ]
  },
  {
   "cell_type": "code",
   "execution_count": 11,
   "metadata": {},
   "outputs": [],
   "source": [
    "def QR(a, b, c, d):\n",
    "    a = sum32(a, b)\n",
    "    d = d ^ a \n",
    "    d = rot(d, 16)\n",
    "\n",
    "    c = sum32(c, d)\n",
    "    b = b ^ c\n",
    "    b = rot(b, 12)\n",
    "\n",
    "    a = sum32(a, b)\n",
    "    d = d ^ a\n",
    "    d = rot(d, 8)\n",
    "\n",
    "    c = sum32(c, d)\n",
    "    b = b ^ c\n",
    "    b = rot(b, 7)\n",
    "    \n",
    "    return a, b, c, d"
   ]
  },
  {
   "cell_type": "markdown",
   "metadata": {},
   "source": [
    "### Round function "
   ]
  },
  {
   "cell_type": "code",
   "execution_count": 12,
   "metadata": {},
   "outputs": [],
   "source": [
    "def round(i):\n",
    "    i[0], i[4], i[8], i[12] = QR(i[0], i[4], i[8], i[12])\n",
    "    i[1], i[5], i[9], i[13] = QR(i[1], i[5], i[9], i[13])\n",
    "    i[2], i[6], i[10], i[14] = QR(i[2], i[6], i[10], i[14])\n",
    "    i[3], i[7], i[11], i[15] = QR(i[3], i[7], i[11], i[15])\n",
    "\n",
    "    i[0], i[5], i[10], i[15] = QR(i[0], i[5], i[10], i[15])\n",
    "    i[1], i[6], i[11], i[12] = QR(i[1], i[6], i[11], i[12])\n",
    "    i[2], i[7], i[8], i[13] = QR(i[2], i[7], i[8], i[13])\n",
    "    i[3], i[4], i[9], i[14] = QR(i[3], i[4], i[9], i[14])\n",
    "\n",
    "    return i"
   ]
  },
  {
   "cell_type": "markdown",
   "metadata": {},
   "source": [
    "### Perm function "
   ]
  },
  {
   "cell_type": "code",
   "execution_count": 13,
   "metadata": {},
   "outputs": [],
   "source": [
    "\n",
    "def perm(x: int, ROUNDS: int = 20): \n",
    "    \"\"\"Permutation \n",
    "\n",
    "    Args:\n",
    "        x: 512 bits (16 words 32 bits)\n",
    "        ROUNDS: Number of rounds\n",
    "            - Default 20 (ChaCha20/20)\n",
    "            - 8 (ChaCha20/8)\n",
    "            - 12 (ChaCha20/12)\n",
    "            \n",
    "    Returns:\n",
    "        512 bits (16 words 32 bits)\n",
    "    \"\"\"\n",
    "    \n",
    "    i = x\n",
    "    \n",
    "    for _ in range(0, ROUNDS, 2): \n",
    "        round(i)\n",
    "    return i\n"
   ]
  },
  {
   "cell_type": "markdown",
   "metadata": {},
   "source": [
    "## Psudorandom generator"
   ]
  },
  {
   "cell_type": "code",
   "execution_count": 14,
   "metadata": {},
   "outputs": [],
   "source": [
    "L = 1 # \n",
    "def G(s: int, n: int):\n",
    "    r = [0]*L\n",
    "\n",
    "    for j in range(L):\n",
    "        h = pad(s, j, n) # 512 bits\n",
    "        pi = perm(h) # 512 bits\n",
    "\n",
    "        r[j] = [0]*16\n",
    "        for i in range(16):\n",
    "           r[j] = from_words(pi, 32) + from_words(h, 32)\n",
    "           \n",
    "    return r"
   ]
  },
  {
   "cell_type": "markdown",
   "metadata": {},
   "source": [
    "## Example"
   ]
  },
  {
   "cell_type": "code",
   "execution_count": 15,
   "metadata": {},
   "outputs": [],
   "source": [
    "k = G(0x112233445566778899aabbccddeeff00, 0x0123456789abcdef)[0]\n",
    "m = text_to_int(\"Hello word!\")\n",
    "c = m ^ k\n",
    "assert(c ^ k == m), \"Error\""
   ]
  },
  {
   "cell_type": "code",
   "execution_count": 17,
   "metadata": {},
   "outputs": [
    {
     "data": {
      "text/plain": [
       "'0x13c9d4da605d3fe8d20464a72aacf9c0d5deb50ca4fbb44aa4618510f5c8f406d4a97fd14f9c3bac3241ad4bedfc9c159ad3c371f5b9a1bee2b80cc198c25af52'"
      ]
     },
     "execution_count": 17,
     "metadata": {},
     "output_type": "execute_result"
    }
   ],
   "source": [
    "hex(k)"
   ]
  },
  {
   "cell_type": "markdown",
   "metadata": {},
   "source": [
    "## References\n",
    "- Class notes \n",
    "- [ChaCha, a variant of Salsa20 - Daniel J. Bernstein](https://cr.yp.to/chacha/chacha-20080128.pdf)"
   ]
  }
 ],
 "metadata": {
  "kernelspec": {
   "display_name": "Python 3",
   "language": "python",
   "name": "python3"
  },
  "language_info": {
   "codemirror_mode": {
    "name": "ipython",
    "version": 3
   },
   "file_extension": ".py",
   "mimetype": "text/x-python",
   "name": "python",
   "nbconvert_exporter": "python",
   "pygments_lexer": "ipython3",
   "version": "3.12.1"
  }
 },
 "nbformat": 4,
 "nbformat_minor": 2
}
