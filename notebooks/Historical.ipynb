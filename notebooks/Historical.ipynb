{
 "cells": [
  {
   "cell_type": "markdown",
   "id": "0ad4a046-f229-4ce9-b2b0-9296a1edf85c",
   "metadata": {},
   "source": [
    "# Historical Ciphers"
   ]
  },
  {
   "cell_type": "markdown",
   "id": "ae51a58f-081b-4b8a-9287-6a2f93bae5ba",
   "metadata": {
    "jp-MarkdownHeadingCollapsed": true
   },
   "source": [
    "## Cesar Cipher"
   ]
  },
  {
   "cell_type": "code",
   "execution_count": 22,
   "id": "ad3fa502-3088-481c-a2df-4daa860f5e38",
   "metadata": {},
   "outputs": [],
   "source": [
    "alphabeth = ['A','B','C','D','E','F','G','H','I','J','K','L','M','N','O','P','Q','R','S','T','U','V','W','X','Y','Z']\n"
   ]
  },
  {
   "cell_type": "code",
   "execution_count": 2,
   "id": "54dbe5db-910d-4210-bb54-b1492663feec",
   "metadata": {},
   "outputs": [],
   "source": [
    "class CesarCipher: \n",
    "    def __init__(self, k: int, alphabeth = alphabeth) -> None: \n",
    "        self.alphabeth = alphabeth\n",
    "        self.k = k % len(alphabeth) \n",
    "\n",
    "    def encrypt(self, m) -> str:\n",
    "        c = ''\n",
    "\n",
    "        for m_i in m: \n",
    "            r_i = self.alphabeth.index(m_i)\n",
    "            c += self.alphabeth[(r_i + self.k) % len(self.alphabeth)]\n",
    "        return c\n",
    "\n",
    "    def decrypt(self, c) -> str:\n",
    "        m = ''\n",
    "        for c_i in c: \n",
    "            r_i = self.alphabeth.index(c_i)\n",
    "            m += self.alphabeth[(r_i - self.k) % len(self.alphabeth)]\n",
    "        return m"
   ]
  },
  {
   "cell_type": "code",
   "execution_count": 3,
   "id": "e3b4bc6e-dcfa-4282-aa22-5628638808d8",
   "metadata": {},
   "outputs": [
    {
     "data": {
      "text/plain": [
       "'CRYPTOGRAPHY'"
      ]
     },
     "execution_count": 3,
     "metadata": {},
     "output_type": "execute_result"
    }
   ],
   "source": [
    "cipher = CesarCipher(7)\n",
    "cipher.decrypt(cipher.encrypt(\"CRYPTOGRAPHY\"))"
   ]
  },
  {
   "cell_type": "markdown",
   "id": "c3e2a6cb-59ef-44e7-ab25-fdb16e725dbe",
   "metadata": {},
   "source": [
    "## Substitution Cipher"
   ]
  },
  {
   "cell_type": "code",
   "execution_count": 20,
   "id": "f0f15e3e-63d6-4bf0-92b8-bd366b0646de",
   "metadata": {},
   "outputs": [],
   "source": [
    "class SubstitutionCipher: \n",
    "\n",
    "    def __init__(self, perm) -> None:     \n",
    "        self.perm = perm\n",
    "\n",
    "    def encrypt(self, m) -> None:\n",
    "        c = ''\n",
    "        for m_i in m:\n",
    "            c += self.perm[m_i]\n",
    "        return c\n",
    "        \n",
    "    def decrypt(self, c):\n",
    "        m = ''\n",
    "        for c_i in c: \n",
    "            r_i = list(self.perm.values()).index(c_i)\n",
    "            m += list(self.perm.keys())[r_i]\n",
    "            \n",
    "        return m\n"
   ]
  },
  {
   "cell_type": "code",
   "execution_count": 21,
   "id": "e53e3304-e510-41bf-8cc5-bdc38da01bf0",
   "metadata": {},
   "outputs": [
    {
     "data": {
      "text/plain": [
       "'CRYJTOGRAJHY'"
      ]
     },
     "execution_count": 21,
     "metadata": {},
     "output_type": "execute_result"
    }
   ],
   "source": [
    "perm = \"D,I,Q,M,T,B,Z,S,Y,J,V,O,F,E,R,J,A,U,W,P,X,H,L,C,N,G\".split(\",\")\n",
    "\n",
    "cipher = SubstitutionCipher(dict(zip(alphabeth, perm)))\n",
    "cipher.decrypt(cipher.encrypt(\"CRYPTOGRAPHY\"))"
   ]
  },
  {
   "cell_type": "markdown",
   "id": "5f3023c7-98da-4436-82b9-f94a945b1030",
   "metadata": {},
   "source": [
    "## One-time pad"
   ]
  },
  {
   "cell_type": "code",
   "execution_count": 10,
   "id": "1312bd26-6ca3-4691-8188-79e9437b2080",
   "metadata": {},
   "outputs": [
    {
     "name": "stdout",
     "output_type": "stream",
     "text": [
      "6\n",
      "13\n"
     ]
    }
   ],
   "source": [
    "k = 11\n",
    "m = 13 \n",
    "\n",
    "c = m ^ k\n",
    "print(c)\n",
    "print(c ^ k)"
   ]
  },
  {
   "cell_type": "code",
   "execution_count": 9,
   "id": "5c42e549",
   "metadata": {},
   "outputs": [],
   "source": [
    "class OneTimePad: \n",
    "\n",
    "    def __init__(self, k) -> None: \n",
    "        self.k = k\n",
    "\n",
    "    def encrypt(self, m) -> None: \n",
    "        return m ^ self.k\n",
    "\n",
    "    def decrypt(self, c) -> None: \n",
    "        return c ^ self.k "
   ]
  },
  {
   "cell_type": "code",
   "execution_count": 19,
   "id": "6ec0ffc0",
   "metadata": {},
   "outputs": [],
   "source": [
    "text = \"CRYPTOGRAPHY\"\n",
    "size = len(text)\n",
    "\n",
    "# string to int or long. Type depends on nchars\n",
    "m = sum(ord(text[byte])<<8*(size - byte - 1) for byte in range(size))"
   ]
  },
  {
   "cell_type": "code",
   "execution_count": 24,
   "id": "1acadd1f",
   "metadata": {},
   "outputs": [
    {
     "data": {
      "text/plain": [
       "544206305909"
      ]
     },
     "execution_count": 24,
     "metadata": {},
     "output_type": "execute_result"
    }
   ],
   "source": [
    "from random import randint\n",
    "\n",
    "k = randint(10**(size - 1), (10**size) - 1)\n",
    "k"
   ]
  },
  {
   "cell_type": "code",
   "execution_count": 25,
   "id": "b8f700b7",
   "metadata": {},
   "outputs": [
    {
     "data": {
      "text/plain": [
       "'CRYPTOGRAPHY'"
      ]
     },
     "execution_count": 25,
     "metadata": {},
     "output_type": "execute_result"
    }
   ],
   "source": [
    "cipher = OneTimePad(k)\n",
    "c = cipher.decrypt(cipher.encrypt(m))\n",
    "\n",
    "# int or long to string\n",
    "''.join(chr((c >>8*(size -byte-1))&0xFF) for byte in range(size))\n"
   ]
  }
 ],
 "metadata": {
  "kernelspec": {
   "display_name": "Python 3 (ipykernel)",
   "language": "python",
   "name": "python3"
  },
  "language_info": {
   "codemirror_mode": {
    "name": "ipython",
    "version": 3
   },
   "file_extension": ".py",
   "mimetype": "text/x-python",
   "name": "python",
   "nbconvert_exporter": "python",
   "pygments_lexer": "ipython3",
   "version": "3.10.13"
  }
 },
 "nbformat": 4,
 "nbformat_minor": 5
}
