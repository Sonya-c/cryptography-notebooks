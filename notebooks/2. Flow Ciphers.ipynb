{
 "cells": [
  {
   "cell_type": "code",
   "execution_count": 25,
   "id": "fe62a9d5-3751-4ece-8ac0-0650049dea30",
   "metadata": {},
   "outputs": [],
   "source": [
    "def rot(w, r): \n",
    "    return ((w << r) & ((1 << 32) - 1)) | (w >> (32 - r)) "
   ]
  },
  {
   "cell_type": "code",
   "execution_count": 15,
   "id": "1d0683fa-a03a-42d7-9ea6-74c131f694ba",
   "metadata": {},
   "outputs": [],
   "source": [
    "def sum(a, b):\n",
    "    return (a + b) & ((1 << 32) - 1)"
   ]
  },
  {
   "cell_type": "code",
   "execution_count": 48,
   "id": "c18b2c37-a56b-42c3-b1a5-8baff4a2318e",
   "metadata": {},
   "outputs": [],
   "source": [
    "def QR_salsa(a, b, c, d): \n",
    "    b = b ^ rot(sum(a, d), 7)\n",
    "    c = c ^ rot(sum(b, a), 9)\n",
    "    d = d ^ rot(sum(c, b), 13)\n",
    "    a = a ^ rot(sum(d, c), 18)\n",
    "    \n",
    "    return a, b, c, d"
   ]
  },
  {
   "cell_type": "code",
   "execution_count": 49,
   "id": "27c3e275-114d-4723-bd05-2ca7df0f4958",
   "metadata": {},
   "outputs": [
    {
     "data": {
      "text/plain": [
       "['0xe4ebc7f', '0x2d2f8a7e', '0x299cd1d7', '0xce01ac7d']"
      ]
     },
     "execution_count": 49,
     "metadata": {},
     "output_type": "execute_result"
    }
   ],
   "source": [
    "a = 0xF71D6206\n",
    "b = 0x791BDF60\n",
    "c = 0xB045D99F\n",
    "d = 0x458B06A4\n",
    "\n",
    "[hex(elem) for elem in QR_salsa(a, b, c, d)]"
   ]
  },
  {
   "cell_type": "code",
   "execution_count": 51,
   "id": "98618e45-4f6f-4843-9010-a3584f07a757",
   "metadata": {},
   "outputs": [],
   "source": [
    "def QR_chacha(a, b, c, d):\n",
    "    a = sum(a, b)\n",
    "    d = d ^ a \n",
    "    d = rot(d, 16)\n",
    "\n",
    "    c = sum(c, d)\n",
    "    b = b ^ c\n",
    "    b = rot(b, 12)\n",
    "\n",
    "    a = sum(a, b)\n",
    "    \n",
    "    return a, b, c, d"
   ]
  },
  {
   "cell_type": "code",
   "execution_count": 50,
   "id": "fe667caa-cf21-4f43-9167-9c0e5c7d9fb4",
   "metadata": {},
   "outputs": [],
   "source": [
    "ROUNDS = 8\n",
    "\n",
    "def perm_salsa(x): \n",
    "    i = x.copy()\n",
    "    for j in range(0, ROUNDS, 2): \n",
    "        i[0], i[4], i[8], i[12] = QR(i[0], i[4], i[8], i[12])\n",
    "        i[5], i[9], i[13], i[1] = QR(i[5], i[9], i[13], i[1])\n",
    "        i[10], i[14], i[2], i[6] = QR(i[10], i[14], i[2], i[6])\n",
    "        i[15], i[3], i[7], i[11] = QR(i[15], i[3], i[7], i[11])\n",
    "\n",
    "        i[0], i[1], i[2], i[3] = QR(i[0], i[1], i[2], i[3])\n",
    "        i[5], i[6], i[7], i[4] = QR(i[5], i[6], i[7], i[4])\n",
    "        i[10], i[11], i[8], i[9] = QR(i[10], i[11], i[8], i[9])\n",
    "        i[15], i[12], i[13], i[14] = QR(i[15], i[12], i[13], i[14])\n",
    "    return i"
   ]
  },
  {
   "cell_type": "code",
   "execution_count": 43,
   "id": "596e5e52-fba8-4cbf-b140-bd526f1e8e60",
   "metadata": {},
   "outputs": [],
   "source": [
    "def str_to_hex(s): return hex(int(s.encode().hex()))"
   ]
  },
  {
   "cell_type": "code",
   "execution_count": 47,
   "id": "b4cc63a1-59fe-41f5-965b-d850168d46b1",
   "metadata": {},
   "outputs": [
    {
     "data": {
      "text/plain": [
       "('0x3ebd4b5', '0x3ebd4b5')"
      ]
     },
     "execution_count": 47,
     "metadata": {},
     "output_type": "execute_result"
    }
   ],
   "source": [
    "c0 = str_to_hex(\"expa\")\n",
    "c1 = \"nd 3\"\n",
    "c2 = \"2-by\"\n",
    "c3 = \"te k\"\n",
    "\n",
    "def pad(s, j, n):\n",
    "    return None\n",
    "c0, hex(int(\"expa\".encode().hex()))"
   ]
  },
  {
   "cell_type": "code",
   "execution_count": 32,
   "id": "30142775-acd9-4d9e-9650-1fc50de8b175",
   "metadata": {},
   "outputs": [],
   "source": [
    "L = 1 << 63\n",
    "\n",
    "def G(s, n): \n",
    "    r = []\n",
    "    for j in range(L):\n",
    "        h_j = pad(s, j, n) \n",
    "        perm_j = perm(h_j)\n",
    "\n",
    "        for j in range(16): \n",
    "            r_j[i] = perm_j[i] + h_j[i]\n",
    "        r.append(r_j)\n",
    "        \n",
    "    return r"
   ]
  },
  {
   "cell_type": "code",
   "execution_count": null,
   "id": "a2a6f599-ed5f-4d7a-a32f-c4abe32b7af5",
   "metadata": {},
   "outputs": [],
   "source": []
  }
 ],
 "metadata": {
  "kernelspec": {
   "display_name": "Python 3 (ipykernel)",
   "language": "python",
   "name": "python3"
  },
  "language_info": {
   "codemirror_mode": {
    "name": "ipython",
    "version": 3
   },
   "file_extension": ".py",
   "mimetype": "text/x-python",
   "name": "python",
   "nbconvert_exporter": "python",
   "pygments_lexer": "ipython3",
   "version": "3.10.13"
  }
 },
 "nbformat": 4,
 "nbformat_minor": 5
}
