{
 "cells": [
  {
   "cell_type": "code",
   "execution_count": 25,
   "id": "fe62a9d5-3751-4ece-8ac0-0650049dea30",
   "metadata": {},
   "outputs": [],
   "source": [
    "def rot(w, r): \n",
    "    return ((w << r) & ((1 << 32) - 1)) | (w >> (32 - r)) "
   ]
  },
  {
   "cell_type": "code",
   "execution_count": 15,
   "id": "1d0683fa-a03a-42d7-9ea6-74c131f694ba",
   "metadata": {},
   "outputs": [],
   "source": [
    "def sum(a, b):\n",
    "    return (a + b) & ((1 << 32) - 1)"
   ]
  },
  {
   "cell_type": "code",
   "execution_count": 26,
   "id": "c18b2c37-a56b-42c3-b1a5-8baff4a2318e",
   "metadata": {},
   "outputs": [],
   "source": [
    "def QR(a, b, c, d): \n",
    "    b = b ^ rot(sum(a, d), 7)\n",
    "    c = c ^ rot(sum(b, a), 9)\n",
    "    d = d ^ rot(sum(c, b), 13)\n",
    "    a = a ^ rot(sum(d, c), 18)\n",
    "    \n",
    "    return a, b, c, d"
   ]
  },
  {
   "cell_type": "code",
   "execution_count": 27,
   "id": "27c3e275-114d-4723-bd05-2ca7df0f4958",
   "metadata": {},
   "outputs": [
    {
     "data": {
      "text/plain": [
       "['0xe4ebc7f', '0x2d2f8a7e', '0x299cd1d7', '0xce01ac7d']"
      ]
     },
     "execution_count": 27,
     "metadata": {},
     "output_type": "execute_result"
    }
   ],
   "source": [
    "a = 0xF71D6206\n",
    "b = 0x791BDF60\n",
    "c = 0xB045D99F\n",
    "d = 0x458B06A4\n",
    "\n",
    "[hex(elem) for elem in QR(a, b, c, d)]"
   ]
  }
 ],
 "metadata": {
  "kernelspec": {
   "display_name": "Python 3 (ipykernel)",
   "language": "python",
   "name": "python3"
  },
  "language_info": {
   "codemirror_mode": {
    "name": "ipython",
    "version": 3
   },
   "file_extension": ".py",
   "mimetype": "text/x-python",
   "name": "python",
   "nbconvert_exporter": "python",
   "pygments_lexer": "ipython3",
   "version": "3.10.13"
  }
 },
 "nbformat": 4,
 "nbformat_minor": 5
}
