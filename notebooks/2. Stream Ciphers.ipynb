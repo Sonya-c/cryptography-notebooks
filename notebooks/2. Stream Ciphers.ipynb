{
 "cells": [
  {
   "cell_type": "markdown",
   "id": "cd10e633",
   "metadata": {},
   "source": [
    "# Stream Ciphers"
   ]
  },
  {
   "cell_type": "code",
   "execution_count": 154,
   "id": "b94a7499",
   "metadata": {},
   "outputs": [],
   "source": [
    "from typing import List, Tuple"
   ]
  },
  {
   "cell_type": "code",
   "execution_count": 137,
   "id": "1d0683fa-a03a-42d7-9ea6-74c131f694ba",
   "metadata": {},
   "outputs": [],
   "source": [
    "def sum32(a: int, b: int) -> int:\n",
    "    # Suma modulo 2^32\n",
    "    return (a + b) & ((1 << 32) - 1)\n",
    "\n",
    "assert(sum32(2**32, 3) == 3), \"Error\""
   ]
  },
  {
   "cell_type": "code",
   "execution_count": 138,
   "id": "c1afc2e6",
   "metadata": {},
   "outputs": [],
   "source": [
    "def text_to_int(string: str) -> int:\n",
    "    # I copy this from StackOverFlow\n",
    "    nchars = len(string)\n",
    "    return sum(ord(string[byte])<<8*(nchars-byte-1) for byte in range(nchars))\n",
    "\n",
    "assert(text_to_int(\"expa\"[::-1]) == 0x61707865), \"Error\""
   ]
  },
  {
   "cell_type": "code",
   "execution_count": 152,
   "id": "c0f345e6",
   "metadata": {},
   "outputs": [],
   "source": [
    "# I dont remmber where I found this\n",
    "def int_to_text(integer: int) -> str:\n",
    "    result = \"\"\n",
    "    while integer > 0:\n",
    "        byte = integer & 0xFF\n",
    "        result = chr(byte) + result\n",
    "        integer >>= 8\n",
    "    \n",
    "    return result\n",
    "\n",
    "assert(\"expa\" == int_to_text(0x61707865)[::-1]), \"Error\""
   ]
  },
  {
   "cell_type": "code",
   "execution_count": 140,
   "id": "d2ea6077",
   "metadata": {},
   "outputs": [],
   "source": [
    "# Chatgpt assited generated code \n",
    "# Do no ask me how it works\n",
    "def to_words(value: int, word_size: int, words_num: int) -> List[int]:\n",
    "    hex_string = value[2:]  # Remove '0x' prefix\n",
    "    binary_string = bin(int(hex_string, 16))[2:].zfill(len(hex_string) * 4)  # Convert to binary\n",
    "    padding_bits = word_size * words_num - len(binary_string)\n",
    "    if padding_bits < 0:\n",
    "        raise ValueError(\"Number of words specified is insufficient for the given value.\")\n",
    "    binary_string = binary_string.zfill(word_size * words_num)  # Add leading zeros for padding\n",
    "    words = [int(binary_string[i:i+word_size], 2) for i in range(0, len(binary_string), word_size)]\n",
    "    return words\n",
    "\n",
    "assert(to_words(hex(0x112233445566778899aabbccddeeff00), 32, 8) == [0x0, 0x0, 0x0, 0x0, 0x11223344, 0x55667788, 0x99aabbcc, 0xddeeff00]), \"Error\""
   ]
  },
  {
   "cell_type": "code",
   "execution_count": 167,
   "id": "36c1d3b0",
   "metadata": {},
   "outputs": [],
   "source": [
    "def from_words(words: List[int], word_size: int) -> int:\n",
    "    binary_string = ''.join(format(word, f'0{word_size}b') for word in words)\n",
    "    hex_string = hex(int(binary_string, 2))\n",
    "    return hex_string\n",
    "\n",
    "assert(hex(0x112233445566778899aabbccddeeff00) == from_words([0x0, 0x0, 0x0, 0x0, 0x11223344, 0x55667788, 0x99aabbcc, 0xddeeff00], 32)), \"Error\"\n"
   ]
  },
  {
   "cell_type": "markdown",
   "id": "98cc1bac",
   "metadata": {},
   "source": [
    "# Salsa"
   ]
  },
  {
   "cell_type": "markdown",
   "id": "22e60690",
   "metadata": {},
   "source": [
    "### Pad"
   ]
  },
  {
   "cell_type": "code",
   "execution_count": 151,
   "id": "d637713d",
   "metadata": {},
   "outputs": [],
   "source": [
    "# constant word (32 bits each)\n",
    "# \"Expand 32-byte k\"\n",
    "c = [text_to_int(\"expa\"[::-1]),\n",
    "     text_to_int(\"nd 3\"[::-1]),\n",
    "     text_to_int(\"2-by\"[::-1]),\n",
    "     text_to_int(\"te k\"[::-1])]\n",
    "\n",
    "def pad(s: int, j: int, n: int) -> int:\n",
    "    \"\"\"A padding function that combies a 256 bits seed s with a 64 bit counter j (j0, j1 of 32 bits) and a b4 bit nonce (n0, n1 of 32 bits) to form a 512 bit block denoted x0, ..., x15 of 32 bits\n",
    "    \n",
    "    Args:\n",
    "        s: Seed (256 bits, 8 words of 32 bits)\n",
    "        j: counter (64 bits)\n",
    "        n: Nonce (64 bits)\n",
    "\n",
    "    Returns:\n",
    "        512 bits (16 words 32 bits)\n",
    "    \"\"\"\n",
    "\n",
    "    # Convert to words\n",
    "    s = to_words(hex(s), 32, 8)\n",
    "    j = to_words(hex(j), 32, 2)\n",
    "    n = to_words(hex(n), 32, 2)\n",
    "\n",
    "    return [\n",
    "        c[0], s[0], s[1], s[2],\n",
    "        s[3], c[1], n[0], n[1],\n",
    "        j[0], j[1], c[2], s[4],\n",
    "        s[5], s[6], s[7], c[3]\n",
    "    ]\n",
    "\n",
    "assert(\n",
    "    pad(0x112233445566778899aabbccddeeff00, 0x0123456789abcdef, 0xfedcba9876543210) == [0x61707865, 0x0, 0x0, 0x0, 0x0, 0x3320646e, 0xfedcba98, 0x76543210, 0x1234567, 0x89abcdef, 0x79622d32, 0x11223344, 0x55667788, 0x99aabbcc, 0xddeeff00, 0x6b206574]\n",
    "), \"Error\""
   ]
  },
  {
   "cell_type": "markdown",
   "id": "bfe81e4e",
   "metadata": {},
   "source": [
    "### Permutation $\\pi$\n",
    "\n",
    "Interating a simple permutation a fized number of times"
   ]
  },
  {
   "cell_type": "code",
   "execution_count": 153,
   "id": "fe62a9d5-3751-4ece-8ac0-0650049dea30",
   "metadata": {},
   "outputs": [],
   "source": [
    "def rot(w: int, r: int) -> int: \n",
    "    \"\"\"Rotate lest for 32 bits\n",
    "\n",
    "    Args:\n",
    "        w: word to rotate\n",
    "        r: I dont remember\n",
    "    \"\"\"\n",
    "\n",
    "    mask = 0xffffffff\n",
    "    return ((w << r) & mask) | (w >> (32 - r)) "
   ]
  },
  {
   "cell_type": "code",
   "execution_count": 165,
   "id": "c18b2c37-a56b-42c3-b1a5-8baff4a2318e",
   "metadata": {},
   "outputs": [],
   "source": [
    "def QR_salsa(a: int, b: int, c: int, d: int) -> Tuple[int, int, int, int]: \n",
    "    # Quater round\n",
    "    b = b ^ rot(sum32(a, d), 7)\n",
    "    c = c ^ rot(sum32(b, a), 9)\n",
    "    d = d ^ rot(sum32(c, b), 13)\n",
    "    a = a ^ rot(sum32(d, c), 18)\n",
    "    \n",
    "    return a, b, c, d"
   ]
  },
  {
   "cell_type": "code",
   "execution_count": 169,
   "id": "fe667caa-cf21-4f43-9167-9c0e5c7d9fb4",
   "metadata": {},
   "outputs": [],
   "source": [
    "ROUNDS = 20\n",
    "\n",
    "def perm_salsa(x: int): \n",
    "    \"\"\"Permutation \n",
    "\n",
    "    Args:\n",
    "        x: 512 bits (16 words 32 bits)\n",
    "\n",
    "    Returns:\n",
    "        512 bits (16 words 32 bits)\n",
    "    \"\"\"\n",
    "    \n",
    "    i = x.copy()\n",
    "    \n",
    "    for _ in range(0, ROUNDS, 2): \n",
    "        # Odd round\n",
    "        i[0], i[4], i[8], i[12] = QR_salsa(i[0], i[4], i[8], i[12]) # Col1\n",
    "        i[5], i[9], i[13], i[1] = QR_salsa(i[5], i[9], i[13], i[1]) # Col2\n",
    "        i[10], i[14], i[2], i[6] = QR_salsa(i[10], i[14], i[2], i[6]) # Col3\n",
    "        i[15], i[3], i[7], i[11] = QR_salsa(i[15], i[3], i[7], i[11]) # Col4\n",
    "        # Even round \n",
    "        i[0], i[1], i[2], i[3] = QR_salsa(i[0], i[1], i[2], i[3]) # Row1\n",
    "        i[5], i[6], i[7], i[4] = QR_salsa(i[5], i[6], i[7], i[4]) # Row2\n",
    "        i[10], i[11], i[8], i[9] = QR_salsa(i[10], i[11], i[8], i[9]) # Row3\n",
    "        i[15], i[12], i[13], i[14] = QR_salsa(i[15], i[12], i[13], i[14]) # Row 4\n",
    "    return i"
   ]
  },
  {
   "cell_type": "markdown",
   "id": "d425f151",
   "metadata": {},
   "source": [
    "### Generador psudoaletorio $G$"
   ]
  },
  {
   "cell_type": "code",
   "execution_count": 176,
   "id": "c90b0263",
   "metadata": {},
   "outputs": [
    {
     "data": {
      "text/plain": [
       "514"
      ]
     },
     "execution_count": 176,
     "metadata": {},
     "output_type": "execute_result"
    }
   ],
   "source": [
    "s = text_to_int(\"*Thirty-two byte (256 bits) key*\")\n",
    "\n",
    "initial_state = pad(s, 0, 0)\n",
    "pi = perm_salsa(initial_state)\n",
    "len(bin(int(from_words(perm_salsa(pi), 32), 16)))"
   ]
  },
  {
   "cell_type": "markdown",
   "id": "d5311493",
   "metadata": {},
   "source": [
    "### Example "
   ]
  },
  {
   "cell_type": "code",
   "execution_count": null,
   "id": "7d69150d",
   "metadata": {},
   "outputs": [],
   "source": [
    "s = text_to_int(\"*Thirty-two byte (256 bits) key*\")\n",
    "from_words(perm_salsa(s), 32)"
   ]
  },
  {
   "cell_type": "markdown",
   "id": "f59b775d",
   "metadata": {},
   "source": [
    "## ChaCha"
   ]
  },
  {
   "cell_type": "code",
   "execution_count": 51,
   "id": "98618e45-4f6f-4843-9010-a3584f07a757",
   "metadata": {},
   "outputs": [],
   "source": [
    "def QR_chacha(a, b, c, d):\n",
    "    a = sum(a, b)\n",
    "    d = d ^ a \n",
    "    d = rot(d, 16)\n",
    "\n",
    "    c = sum(c, d)\n",
    "    b = b ^ c\n",
    "    b = rot(b, 12)\n",
    "\n",
    "    a = sum(a, b)\n",
    "    \n",
    "    return a, b, c, d"
   ]
  }
 ],
 "metadata": {
  "kernelspec": {
   "display_name": "Python 3 (ipykernel)",
   "language": "python",
   "name": "python3"
  },
  "language_info": {
   "codemirror_mode": {
    "name": "ipython",
    "version": 3
   },
   "file_extension": ".py",
   "mimetype": "text/x-python",
   "name": "python",
   "nbconvert_exporter": "python",
   "pygments_lexer": "ipython3",
   "version": "3.12.1"
  }
 },
 "nbformat": 4,
 "nbformat_minor": 5
}
