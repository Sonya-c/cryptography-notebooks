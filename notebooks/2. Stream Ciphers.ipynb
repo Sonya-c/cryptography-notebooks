{
 "cells": [
  {
   "cell_type": "markdown",
   "id": "cd10e633",
   "metadata": {},
   "source": [
    "# Stream Ciphers"
   ]
  },
  {
   "cell_type": "code",
   "execution_count": 1,
   "id": "1d0683fa-a03a-42d7-9ea6-74c131f694ba",
   "metadata": {},
   "outputs": [],
   "source": [
    "def sum(a, b):\n",
    "    # Suma modulo 2^32\n",
    "    return (a + b) & ((1 << 32) - 1)"
   ]
  },
  {
   "cell_type": "code",
   "execution_count": 91,
   "id": "c1afc2e6",
   "metadata": {},
   "outputs": [],
   "source": [
    "def str_to_hex(string):\n",
    "    # I copy this from StackOverFlow\n",
    "    nchars = len(string)\n",
    "    return hex(sum(ord(string[byte])<<8*(nchars-byte-1) for byte in range(nchars)))"
   ]
  },
  {
   "cell_type": "code",
   "execution_count": 105,
   "id": "c0f345e6",
   "metadata": {},
   "outputs": [],
   "source": [
    "def hex_to_str(hex_string):\n",
    "    hex_int = int(hex_string, 16)    \n",
    "    result = \"\"\n",
    "    while hex_int > 0:\n",
    "        byte = hex_int & 0xFF\n",
    "        result = chr(byte) + result\n",
    "        hex_int >>= 8\n",
    "    \n",
    "    return result"
   ]
  },
  {
   "cell_type": "markdown",
   "id": "98cc1bac",
   "metadata": {},
   "source": [
    "# Salsa"
   ]
  },
  {
   "cell_type": "markdown",
   "id": "22e60690",
   "metadata": {},
   "source": [
    "### Pad"
   ]
  },
  {
   "cell_type": "code",
   "execution_count": 108,
   "id": "ddfa56fd",
   "metadata": {},
   "outputs": [
    {
     "data": {
      "text/plain": [
       "['0x61707865', '0x3320646e', '0x79622d32', '0x6b206574']"
      ]
     },
     "execution_count": 108,
     "metadata": {},
     "output_type": "execute_result"
    }
   ],
   "source": [
    "# constant word (32 bits each)\n",
    "# \"Expand 32-byte k\"\n",
    "c = [str_to_hex(\"expa\"[::-1]),\n",
    "     str_to_hex(\"nd 3\"[::-1]),\n",
    "     str_to_hex(\"2-by\"[::-1]),\n",
    "     str_to_hex(\"te k\"[::-1])]\n",
    "c"
   ]
  },
  {
   "cell_type": "code",
   "execution_count": 84,
   "id": "d637713d",
   "metadata": {},
   "outputs": [],
   "source": [
    "\n",
    "def pad(s, j, n):\n",
    "    \"\"\"A padding function that combies a 256 bits seed s with a 64 bit counter j (j0, j1 of 32 bits) and a b4 bit nonce (n0, n1 of 32 bits) to form a 512 bit block denoted x0, ..., x15 of 32 bits\n",
    "    \n",
    "    Args:\n",
    "        s (array[hex]): Seed (256 bits, 7 words of 32 bits)\n",
    "        j (array[hex]): counter (64 bits)\n",
    "        n (array[hex]): Nonce (64 bits)\n",
    "\n",
    "    Returns:\n",
    "        array[hex]: 512 bits (16 words 32 bits)\n",
    "    \"\"\"\n",
    "\n",
    "    return [\n",
    "        c[0], s[0], s[1], s[2],\n",
    "        s[3], c[1], n[0], n[1],\n",
    "        j[0], j[1], c[2], s[4],\n",
    "        s[5], s[6], s[7], c[3]\n",
    "    ]"
   ]
  },
  {
   "cell_type": "markdown",
   "id": "bfe81e4e",
   "metadata": {},
   "source": [
    "### Permutation $\\pi$\n",
    "\n",
    "Interating a simple permutation a fized number of times"
   ]
  },
  {
   "cell_type": "code",
   "execution_count": 85,
   "id": "fe62a9d5-3751-4ece-8ac0-0650049dea30",
   "metadata": {},
   "outputs": [],
   "source": [
    "def rot(w, r): \n",
    "    \"\"\"Rotate lest for 32 bits\n",
    "\n",
    "    Args:\n",
    "        w (hex): word to rotate\n",
    "        r (hex): I dont remember\n",
    "\n",
    "    Returns:\n",
    "        _type_: _description_\n",
    "    \"\"\"\n",
    "\n",
    "    mask = 0xffffffff\n",
    "    return ((w << r) & mask) | (w >> (32 - r)) "
   ]
  },
  {
   "cell_type": "code",
   "execution_count": 86,
   "id": "c18b2c37-a56b-42c3-b1a5-8baff4a2318e",
   "metadata": {},
   "outputs": [],
   "source": [
    "def QR_salsa(a, b, c, d): \n",
    "    # Quater round\n",
    "    b = b ^ rot(sum(a, d), 7)\n",
    "    c = c ^ rot(sum(b, a), 9)\n",
    "    d = d ^ rot(sum(c, b), 13)\n",
    "    a = a ^ rot(sum(d, c), 18)\n",
    "    \n",
    "    return a, b, c, d"
   ]
  },
  {
   "cell_type": "code",
   "execution_count": 8,
   "id": "fe667caa-cf21-4f43-9167-9c0e5c7d9fb4",
   "metadata": {},
   "outputs": [],
   "source": [
    "ROUNDS = 20\n",
    "\n",
    "def perm_salsa(x): \n",
    "    \"\"\"Permutation \n",
    "\n",
    "    Args:\n",
    "        x (_type_): 512 bits (16 words 32 bits)\n",
    "\n",
    "    Returns:\n",
    "        _type_: 512 bits (16 words 32 bits)\n",
    "    \"\"\"\n",
    "    \n",
    "    i = x.copy()\n",
    "    \n",
    "    for _ in range(0, ROUNDS, 2): \n",
    "        # Odd round\n",
    "        i[0], i[4], i[8], i[12] = QR_salsa(i[0], i[4], i[8], i[12]) # Col1\n",
    "        i[5], i[9], i[13], i[1] = QR_salsa(i[5], i[9], i[13], i[1]) # Col2\n",
    "        i[10], i[14], i[2], i[6] = QR_salsa(i[10], i[14], i[2], i[6]) # Col3\n",
    "        i[15], i[3], i[7], i[11] = QR_salsa(i[15], i[3], i[7], i[11]) # Col4\n",
    "        # Even round \n",
    "        i[0], i[1], i[2], i[3] = QR_salsa(i[0], i[1], i[2], i[3]) # Row1\n",
    "        i[5], i[6], i[7], i[4] = QR_salsa(i[5], i[6], i[7], i[4]) # Row2\n",
    "        i[10], i[11], i[8], i[9] = QR_salsa(i[10], i[11], i[8], i[9]) # Row3\n",
    "        i[15], i[12], i[13], i[14] = QR_salsa(i[15], i[12], i[13], i[14]) # Row 4\n",
    "    return i"
   ]
  },
  {
   "cell_type": "markdown",
   "id": "d425f151",
   "metadata": {},
   "source": [
    "### Generador psudoaletorio $G$"
   ]
  },
  {
   "cell_type": "code",
   "execution_count": 107,
   "id": "c90b0263",
   "metadata": {},
   "outputs": [],
   "source": [
    "s = str_to_hex(\"*Thirty-two byte (256 bits) key*\")"
   ]
  },
  {
   "cell_type": "markdown",
   "id": "d5311493",
   "metadata": {},
   "source": [
    "### Salsa "
   ]
  },
  {
   "cell_type": "markdown",
   "id": "f59b775d",
   "metadata": {},
   "source": [
    "## ChaCha"
   ]
  },
  {
   "cell_type": "code",
   "execution_count": 51,
   "id": "98618e45-4f6f-4843-9010-a3584f07a757",
   "metadata": {},
   "outputs": [],
   "source": [
    "def QR_chacha(a, b, c, d):\n",
    "    a = sum(a, b)\n",
    "    d = d ^ a \n",
    "    d = rot(d, 16)\n",
    "\n",
    "    c = sum(c, d)\n",
    "    b = b ^ c\n",
    "    b = rot(b, 12)\n",
    "\n",
    "    a = sum(a, b)\n",
    "    \n",
    "    return a, b, c, d"
   ]
  }
 ],
 "metadata": {
  "kernelspec": {
   "display_name": "Python 3 (ipykernel)",
   "language": "python",
   "name": "python3"
  },
  "language_info": {
   "codemirror_mode": {
    "name": "ipython",
    "version": 3
   },
   "file_extension": ".py",
   "mimetype": "text/x-python",
   "name": "python",
   "nbconvert_exporter": "python",
   "pygments_lexer": "ipython3",
   "version": "3.12.1"
  }
 },
 "nbformat": 4,
 "nbformat_minor": 5
}
