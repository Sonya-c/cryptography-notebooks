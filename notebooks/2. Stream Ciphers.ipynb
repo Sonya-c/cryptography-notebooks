{
 "cells": [
  {
   "cell_type": "markdown",
   "id": "cd10e633",
   "metadata": {},
   "source": [
    "# Stream Ciphers"
   ]
  },
  {
   "cell_type": "code",
   "execution_count": 1,
   "id": "1d0683fa-a03a-42d7-9ea6-74c131f694ba",
   "metadata": {},
   "outputs": [],
   "source": [
    "def sum(a, b):\n",
    "    # Suma modulo 2^32\n",
    "    return (a + b) & ((1 << 32) - 1)"
   ]
  },
  {
   "cell_type": "code",
   "execution_count": 6,
   "id": "f682c07b",
   "metadata": {},
   "outputs": [],
   "source": [
    "def str_to_hex(s): return hex(int(s.encode().hex()))"
   ]
  },
  {
   "cell_type": "markdown",
   "id": "98cc1bac",
   "metadata": {},
   "source": [
    "# Salsa"
   ]
  },
  {
   "cell_type": "markdown",
   "id": "22e60690",
   "metadata": {},
   "source": [
    "### Pad"
   ]
  },
  {
   "cell_type": "code",
   "execution_count": 11,
   "id": "d637713d",
   "metadata": {},
   "outputs": [],
   "source": [
    "# const, 32 bits\n",
    "c0 = \"expa\"\n",
    "c1 = \"nd 3\"\n",
    "c2 = \"2-by\"\n",
    "c3 = \"te k\"\n",
    "\n",
    "# TODO: string to hex \n",
    "\n",
    "def pad(s, j, n):\n",
    "    # s: seed (256 bits), 32 bits word s0, s1, s2, ..., s7 \n",
    "    # j: counter (64 bits)\n",
    "    # n: nonce (64 bits)\n",
    "    # returns 512 bits\n",
    "    return [\n",
    "        c0, s[0], s[1], s[2],\n",
    "        s[3], c1, n[0], n[1],\n",
    "        j[0], j[1], c2, s[4],\n",
    "        s[5], s[6], s[7], c3\n",
    "    ]"
   ]
  },
  {
   "cell_type": "markdown",
   "id": "bfe81e4e",
   "metadata": {},
   "source": [
    "### Permutation $\\pi$\n",
    "\n",
    "Interating a simple permutation a fized number of times"
   ]
  },
  {
   "cell_type": "code",
   "execution_count": 3,
   "id": "fe62a9d5-3751-4ece-8ac0-0650049dea30",
   "metadata": {},
   "outputs": [],
   "source": [
    "def rot(w, r): \n",
    "    return ((w << r) & ((1 << 32) - 1)) | (w >> (32 - r)) "
   ]
  },
  {
   "cell_type": "code",
   "execution_count": 3,
   "id": "c18b2c37-a56b-42c3-b1a5-8baff4a2318e",
   "metadata": {},
   "outputs": [],
   "source": [
    "# Quater tound \n",
    "def QR_salsa(a, b, c, d): \n",
    "    b = b ^ rot(sum(a, d), 7)\n",
    "    c = c ^ rot(sum(b, a), 9)\n",
    "    d = d ^ rot(sum(c, b), 13)\n",
    "    a = a ^ rot(sum(d, c), 18)\n",
    "    \n",
    "    return a, b, c, d"
   ]
  },
  {
   "cell_type": "code",
   "execution_count": 8,
   "id": "fe667caa-cf21-4f43-9167-9c0e5c7d9fb4",
   "metadata": {},
   "outputs": [],
   "source": [
    "ROUNDS = 8\n",
    "\n",
    "def perm_salsa(x): \n",
    "    # x: 512 bits \n",
    "    # return 512 bits\n",
    "    \n",
    "    i = x.copy()\n",
    "    \n",
    "    for j in range(0, ROUNDS, 2): \n",
    "        # Odd round\n",
    "        i[0], i[4], i[8], i[12] = QR_salsa(i[0], i[4], i[8], i[12]) # Col1\n",
    "        i[5], i[9], i[13], i[1] = QR_salsa(i[5], i[9], i[13], i[1]) # Col2\n",
    "        i[10], i[14], i[2], i[6] = QR_salsa(i[10], i[14], i[2], i[6]) # Col3\n",
    "        i[15], i[3], i[7], i[11] = QR_salsa(i[15], i[3], i[7], i[11]) # Col4\n",
    "        # Even round \n",
    "        i[0], i[1], i[2], i[3] = QR_salsa(i[0], i[1], i[2], i[3]) # Row1\n",
    "        i[5], i[6], i[7], i[4] = QR_salsa(i[5], i[6], i[7], i[4]) # Row2\n",
    "        i[10], i[11], i[8], i[9] = QR_salsa(i[10], i[11], i[8], i[9]) # Row3\n",
    "        i[15], i[12], i[13], i[14] = QR_salsa(i[15], i[12], i[13], i[14]) # Row 4\n",
    "    return i"
   ]
  },
  {
   "cell_type": "markdown",
   "id": "d425f151",
   "metadata": {},
   "source": [
    "### Generador psudoaletorio"
   ]
  },
  {
   "cell_type": "code",
   "execution_count": 35,
   "id": "30142775-acd9-4d9e-9650-1fc50de8b175",
   "metadata": {},
   "outputs": [],
   "source": [
    "\n",
    "L = 1 << 63\n",
    "\n",
    "def G(s, n):\n",
    "    # Seed: 256 bits\n",
    "    # n: 64 bits \n",
    "    \n",
    "    r = []\n",
    "    for j in range(L): # j: 64 bits \n",
    "        h_j = pad(s, j, n) \n",
    "        perm_j = perm_salsa(h_j)\n",
    "\n",
    "        r_j = []\n",
    "\n",
    "        for i in range(16): \n",
    "            r_j[i] = perm_j[i] + h_j[i]\n",
    "        r.append(r_j)\n",
    "        \n",
    "    return r"
   ]
  },
  {
   "cell_type": "markdown",
   "id": "d5311493",
   "metadata": {},
   "source": [
    "### Salsa "
   ]
  },
  {
   "cell_type": "code",
   "execution_count": null,
   "id": "0c709f4f",
   "metadata": {},
   "outputs": [],
   "source": [
    "s = None\n",
    "n = None \n",
    "k = G(s, n)"
   ]
  },
  {
   "cell_type": "markdown",
   "id": "f59b775d",
   "metadata": {},
   "source": [
    "## ChaCha"
   ]
  },
  {
   "cell_type": "code",
   "execution_count": 51,
   "id": "98618e45-4f6f-4843-9010-a3584f07a757",
   "metadata": {},
   "outputs": [],
   "source": [
    "def QR_chacha(a, b, c, d):\n",
    "    a = sum(a, b)\n",
    "    d = d ^ a \n",
    "    d = rot(d, 16)\n",
    "\n",
    "    c = sum(c, d)\n",
    "    b = b ^ c\n",
    "    b = rot(b, 12)\n",
    "\n",
    "    a = sum(a, b)\n",
    "    \n",
    "    return a, b, c, d"
   ]
  }
 ],
 "metadata": {
  "kernelspec": {
   "display_name": "Python 3 (ipykernel)",
   "language": "python",
   "name": "python3"
  },
  "language_info": {
   "codemirror_mode": {
    "name": "ipython",
    "version": 3
   },
   "file_extension": ".py",
   "mimetype": "text/x-python",
   "name": "python",
   "nbconvert_exporter": "python",
   "pygments_lexer": "ipython3",
   "version": "3.12.1"
  }
 },
 "nbformat": 4,
 "nbformat_minor": 5
}
