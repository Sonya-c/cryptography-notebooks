{
 "cells": [
  {
   "cell_type": "markdown",
   "id": "cd10e633",
   "metadata": {},
   "source": [
    "# Stream Ciphers\n",
    "\n",
    "One-time pad limitations: the same key can't be use twice.\n",
    "\n",
    "**Proof**\n",
    "\n",
    "$$\n",
    "c_0 = k \\oplus m_0 \\\\ \n",
    "c_1 = k \\oplus m_1 \\\\ \n",
    "c_0 \\oplus c_1 \\\\\n",
    "(k \\oplus m_0) \\oplus (k \\oplus m_1) \\\\\n",
    "m_0 \\oplus m_1 \\\\\n",
    "$$\n",
    "\n",
    "If we have $m_0$ y $m_1$, we can get $m_1$\n",
    "\n",
    "$$\n",
    "m_0 \\oplus m_1 \\oplus m_0 = m_1\n",
    "$$\n",
    "\n",
    "**pseudorandom generator**\n",
    "\n",
    "Stream Ciphers use a pseudorandom generator that generates key from a seed\n",
    "\n",
    "$$\n",
    "G(s_0) \\rightarrow h \\\\\n",
    "si s_1 = s_0 entonces \\\\\n",
    "G(s_1) \\rightarrow h\n",
    "$$\n",
    "\n",
    "$\\mathcal{E} = (E, D)$, $\\mathcal{K}:=\\{0, 1\\}^l$, $\\mathcal{M}:=\\mathcal{C}:=\\{0, 1\\}^{\\leq L}$ con $l < L$\n",
    "\n",
    "$$\n",
    "E(k, m) = G(k)[0, ..., v-1] \\oplus m = c \\\\\n",
    "v = |m| \\\\\n",
    "\\\\\n",
    "D(k, c) = G(k)[0, ..., v-1] \\oplus c = m \\\\\n",
    "v = |c|\n",
    "$$\n",
    "\n",
    "Salsa is a fast stream cipher ans Chacha a variant. They both use two main components: a padding function pad(s, j, n) that combines a 256-bit seed s with a 64-bit counter j and 32-64 nonce n to form a 512-bit block. It also have a fixed public permutation $pi$ (input 512bits and output 512 bits). The algorithm generates $L < 2^{64}$ psudorandom block of 512-bits\n",
    "\n",
    "~~~\n",
    "G(s, n)\n",
    "    for j = 0, L - 1, 1\n",
    "        h <- pad(s, j, 0)\n",
    "        rj <- pi(h) xor h\n",
    "    return r\n",
    "\n",
    "~~~"
   ]
  },
  {
   "cell_type": "code",
   "execution_count": 1,
   "id": "b94a7499",
   "metadata": {},
   "outputs": [],
   "source": [
    "from typing import List, Tuple"
   ]
  },
  {
   "cell_type": "markdown",
   "id": "402c3755",
   "metadata": {},
   "source": [
    "### Words\n",
    "\n",
    "A word is an elment of 32 bits. THe sum of two word is mod $2^32$"
   ]
  },
  {
   "cell_type": "code",
   "execution_count": 7,
   "id": "1d0683fa-a03a-42d7-9ea6-74c131f694ba",
   "metadata": {},
   "outputs": [],
   "source": [
    "# Notation: + is the addition mod 2^32\n",
    "\n",
    "def sum32(a: int, b: int) -> int:\n",
    "    # Suma mod 2^32\n",
    "    return (a + b) & ((1 << 32) - 1)\n",
    "\n",
    "assert(sum32(2**32, 3) == 3), \"Error\""
   ]
  },
  {
   "cell_type": "code",
   "execution_count": 8,
   "id": "c1afc2e6",
   "metadata": {},
   "outputs": [],
   "source": [
    "\n",
    "def text_to_int(string: str) -> int:\n",
    "    # I copy this from StackOverFlow\n",
    "    nchars = len(string)\n",
    "    return sum(ord(string[byte])<<8*(nchars-byte-1) for byte in range(nchars))\n",
    "\n",
    "assert(text_to_int(\"expa\"[::-1]) == 0x61707865), \"Error\""
   ]
  },
  {
   "cell_type": "code",
   "execution_count": 9,
   "id": "2a66635e",
   "metadata": {},
   "outputs": [],
   "source": [
    "\n",
    "def int_to_text(integer: int) -> str:\n",
    "    # I dont remmber where I found this\n",
    "    result = \"\"\n",
    "    while integer > 0:\n",
    "        byte = integer & 0xFF\n",
    "        result = chr(byte) + result\n",
    "        integer >>= 8\n",
    "    \n",
    "    return result\n",
    "\n",
    "assert(\"expa\" == int_to_text(0x61707865)[::-1]), \"Error\""
   ]
  },
  {
   "cell_type": "code",
   "execution_count": 10,
   "id": "d2ea6077",
   "metadata": {},
   "outputs": [],
   "source": [
    "\n",
    "# Chatgpt assited generated code \n",
    "# Do no ask me how it works\n",
    "\n",
    "def to_words(value: int,\n",
    "             word_size: int,\n",
    "             words_num: int) -> List[int]:\n",
    "    \n",
    "    hex_string = hex(value)[2:]  # Remove '0x' prefix\n",
    "    \n",
    "    binary_string = bin(int(hex_string, 16))[2:].zfill(len(hex_string) * 4)  # Convert to binary\n",
    "    padding_bits = word_size * words_num - len(binary_string)\n",
    "    \n",
    "    if padding_bits < 0:\n",
    "        raise ValueError(\"Number of words specified is insufficient for the given value.\")\n",
    "    \n",
    "    binary_string = binary_string.zfill(word_size * words_num)  # Add leading zeros for padding\n",
    "    \n",
    "    words = [int(binary_string[i:i+word_size], 2) for i in range(0, len(binary_string), word_size)]\n",
    "    \n",
    "    return words\n",
    "\n",
    "assert(to_words(0x112233445566778899aabbccddeeff00, 32, 8) == [0x0, 0x0, 0x0, 0x0, 0x11223344, 0x55667788, 0x99aabbcc, 0xddeeff00]), \"Error\""
   ]
  },
  {
   "cell_type": "code",
   "execution_count": 11,
   "id": "36c1d3b0",
   "metadata": {},
   "outputs": [],
   "source": [
    "\n",
    "def from_words(words: List[int], word_size: int) -> int:\n",
    "    binary_string = ''.join(format(word, f'0{word_size}b') for word in words)\n",
    "    hex_string = hex(int(binary_string, 2))\n",
    "    return int(hex_string, 16)\n",
    "\n",
    "assert(0x112233445566778899aabbccddeeff00 == from_words([0x0, 0x0, 0x0, 0x0, 0x11223344, 0x55667788, 0x99aabbcc, 0xddeeff00], 32)), \"Error\"\n"
   ]
  },
  {
   "cell_type": "markdown",
   "id": "98cc1bac",
   "metadata": {},
   "source": [
    "## Salsa20\n",
    "\n",
    "\"The core of Salsa20 is a hash function with 64-byte input and 64-byte output. The hash function is used in counter mode as a stream cipher: Salsa20 encrypts a 64-byte block of plaintext by hashing the key, nonce, and block number and xor’ing the result with the plaintext\". "
   ]
  },
  {
   "cell_type": "markdown",
   "id": "22e60690",
   "metadata": {},
   "source": [
    "### Pad function"
   ]
  },
  {
   "cell_type": "code",
   "execution_count": 28,
   "id": "d637713d",
   "metadata": {},
   "outputs": [],
   "source": [
    "# constant word (32 bits each)\n",
    "# \"Expand 32-byte k\"\n",
    "_c = [text_to_int(\"expa\"[::-1]),\n",
    "     text_to_int(\"nd 3\"[::-1]),\n",
    "     text_to_int(\"2-by\"[::-1]),\n",
    "     text_to_int(\"te k\"[::-1])]\n",
    "\n",
    "def pad(s: int, j: int, n: int) -> int:\n",
    "    \"\"\"A padding function that combies a 256 bits seed s with a 64 bit counter j (j0, j1 of 32 bits) and a b4 bit nonce (n0, n1 of 32 bits) to form a 512 bit block denoted x0, ..., x15 of 32 bits\n",
    "    \n",
    "    Args:\n",
    "        s: Seed (256 bits, 8 words of 32 bits)\n",
    "        j: counter (64 bits)\n",
    "        n: Nonce (64 bits)\n",
    "\n",
    "    Returns:\n",
    "        512 bits (16 words 32 bits)\n",
    "    \"\"\"\n",
    "\n",
    "    # Convert to words\n",
    "    s = to_words(s, 32, 8)\n",
    "    j = to_words(j, 32, 2)\n",
    "    n = to_words(n, 32, 2)\n",
    "\n",
    "    return [\n",
    "        _c[0], s[0], s[1], s[2],\n",
    "        s[3], _c[1], n[0], n[1],\n",
    "        j[0], j[1], _c[2], s[4],\n",
    "        s[5], s[6], s[7], _c[3]\n",
    "    ]\n"
   ]
  },
  {
   "cell_type": "code",
   "execution_count": 13,
   "id": "37f48500",
   "metadata": {},
   "outputs": [],
   "source": [
    "assert(\n",
    "    pad(0x112233445566778899aabbccddeeff00,\n",
    "        0x0123456789abcdef,\n",
    "        0xfedcba9876543210) == \n",
    "        \n",
    "        [0x61707865, 0x0, 0x0, 0x0, \n",
    "         0x0, 0x3320646e, 0xfedcba98, 0x76543210,\n",
    "         0x1234567, 0x89abcdef, 0x79622d32, 0x11223344,\n",
    "         0x55667788, 0x99aabbcc, 0xddeeff00, 0x6b206574]\n",
    "), \"Error\""
   ]
  },
  {
   "cell_type": "markdown",
   "id": "bfe81e4e",
   "metadata": {},
   "source": [
    "### Public permutation\n",
    "\n",
    "The public permutation is constructed by iterating a simple permutation a fixed number of times. "
   ]
  },
  {
   "cell_type": "markdown",
   "id": "e3f03a84",
   "metadata": {},
   "source": [
    "#### Quarterround function\n",
    "\n",
    "- Input: 4-word sequence \n",
    "- Output: 4-word sequence \n",
    "\n",
    "The entire function is invertible."
   ]
  },
  {
   "cell_type": "code",
   "execution_count": 14,
   "id": "fe62a9d5-3751-4ece-8ac0-0650049dea30",
   "metadata": {},
   "outputs": [],
   "source": [
    "def rot(w: int, r: int) -> int: \n",
    "    \"\"\"Rotate lest for 32 bits\n",
    "\n",
    "    Args:\n",
    "        w: word to rotate\n",
    "        r: I dont remember\n",
    "    \"\"\"\n",
    "\n",
    "    mask = 0xffffffff\n",
    "    return ((w << r) & mask) | (w >> (32 - r)) "
   ]
  },
  {
   "cell_type": "code",
   "execution_count": 15,
   "id": "c18b2c37-a56b-42c3-b1a5-8baff4a2318e",
   "metadata": {},
   "outputs": [],
   "source": [
    "def QR(a: int, b: int, c: int, d: int) -> Tuple[int, int, int, int]: \n",
    "    # Quater round\n",
    "    b = b ^ rot(sum32(a, d), 7)\n",
    "    c = c ^ rot(sum32(b, a), 9)\n",
    "    d = d ^ rot(sum32(c, b), 13)\n",
    "    a = a ^ rot(sum32(d, c), 18)\n",
    "    \n",
    "    return a, b, c, d\n"
   ]
  },
  {
   "cell_type": "code",
   "execution_count": 16,
   "id": "ec092e65",
   "metadata": {},
   "outputs": [],
   "source": [
    "# Test cases (from the Salsa20 specification)\n",
    "\n",
    "assert(QR(0x00000000, 0x00000000, 0x00000000, 0x00000000)\n",
    "== (0x00000000, 0x00000000, 0x00000000, 0x00000000)), \"Faild test 1\"\n",
    "assert(QR(0x00000001, 0x00000000, 0x00000000, 0x00000000)\n",
    "== (0x08008145, 0x00000080, 0x00010200, 0x20500000)), \"Failed test 2\"\n",
    "assert(QR(0x00000000, 0x00000001, 0x00000000, 0x00000000)\n",
    "== (0x88000100, 0x00000001, 0x00000200, 0x00402000)), \"Failed test 3\"\n",
    "assert(QR(0x00000000, 0x00000000, 0x00000001, 0x00000000)\n",
    "== (0x80040000, 0x00000000, 0x00000001, 0x00002000)), \"Failed test 4\"\n",
    "assert(QR(0x00000000, 0x00000000, 0x00000000, 0x00000001)\n",
    "== (0x00048044, 0x00000080, 0x00010000, 0x20100001)), \"Failed test 5\"\n",
    "assert(QR(0xe7e8c006, 0xc4f9417d, 0x6479b4b2, 0x68c67137)\n",
    "== (0xe876d72b, 0x9361dfd5, 0xf1460244, 0x948541a3)), \"Failed test 6\"\n",
    "assert(QR(0xd3917c5b, 0x55f1c407, 0x52a58a7a, 0x8f887a3b)\n",
    "== (0x3e2f308c, 0xd90a8f36, 0x6ab2a923, 0x2883524c)), \"Failed test 7\""
   ]
  },
  {
   "cell_type": "markdown",
   "id": "ae7b49f6",
   "metadata": {},
   "source": [
    "#### Round Function"
   ]
  },
  {
   "cell_type": "code",
   "execution_count": 17,
   "id": "6501f57b",
   "metadata": {},
   "outputs": [],
   "source": [
    "def round(i: List[int]):\n",
    "    # Doble round\n",
    "        \n",
    "    # Odd round (column round)\n",
    "    i[0], i[4], i[8], i[12] = QR(i[0], i[4], i[8], i[12]) \n",
    "    i[5], i[9], i[13], i[1] = QR(i[5], i[9], i[13], i[1]) \n",
    "    i[10], i[14], i[2], i[6] = QR(i[10], i[14], i[2], i[6]) \n",
    "    i[15], i[3], i[7], i[11] = QR(i[15], i[3], i[7], i[11]) \n",
    "\n",
    "    # Even round (row round)\n",
    "    i[0], i[1], i[2], i[3] = QR(i[0], i[1], i[2], i[3]) \n",
    "    i[5], i[6], i[7], i[4] = QR(i[5], i[6], i[7], i[4]) \n",
    "    i[10], i[11], i[8], i[9] = QR(i[10], i[11], i[8], i[9])\n",
    "    i[15], i[12], i[13], i[14] = QR(i[15], i[12], i[13], i[14])\n",
    "\n",
    "    return i"
   ]
  },
  {
   "cell_type": "code",
   "execution_count": 18,
   "id": "feef4a3f",
   "metadata": {},
   "outputs": [],
   "source": [
    "assert(round([0x00000001, 0x00000000, 0x00000000, 0x00000000,\n",
    "0x00000000, 0x00000000, 0x00000000, 0x00000000,\n",
    "0x00000000, 0x00000000, 0x00000000, 0x00000000,\n",
    "0x00000000, 0x00000000, 0x00000000, 0x00000000]) == [0x8186a22d, 0x0040a284, 0x82479210, 0x06929051,\n",
    "0x08000090, 0x02402200, 0x00004000, 0x00800000,\n",
    "0x00010200, 0x20400000, 0x08008104, 0x00000000,\n",
    "0x20500000, 0xa0000040, 0x0008180a, 0x612a8020]), \"Failed test 1\"\n",
    "\n",
    "assert(round([0xde501066, 0x6f9eb8f7, 0xe4fbbd9b, 0x454e3f57,\n",
    "0xb75540d3, 0x43e93a4c, 0x3a6f2aa0, 0x726d6b36,\n",
    "0x9243f484, 0x9145d1e8, 0x4fa9d247, 0xdc8dee11,\n",
    "0x054bf545, 0x254dd653, 0xd9421b6d, 0x67b276c1]) == [0xccaaf672, 0x23d960f7, 0x9153e63a, 0xcd9a60d0,\n",
    "0x50440492, 0xf07cad19, 0xae344aa0, 0xdf4cfdfc,\n",
    "0xca531c29, 0x8e7943db, 0xac1680cd, 0xd503ca00,\n",
    "0xa74b2ad6, 0xbc331c5c, 0x1dda24c7, 0xee928277]), \"Failed test 2\""
   ]
  },
  {
   "cell_type": "markdown",
   "id": "5f749ca8",
   "metadata": {},
   "source": [
    "#### The perm function"
   ]
  },
  {
   "cell_type": "code",
   "execution_count": 19,
   "id": "fe667caa-cf21-4f43-9167-9c0e5c7d9fb4",
   "metadata": {},
   "outputs": [],
   "source": [
    "\n",
    "def perm(x: int, ROUNDS: int = 20): \n",
    "    \"\"\"Permutation \n",
    "\n",
    "    Args:\n",
    "        x: 512 bits (16 words 32 bits)\n",
    "        ROUNDS: Number of rounds\n",
    "            - Default 20 (salsa20/20)\n",
    "            - 8 (salsa20/8)\n",
    "            - 12 (salsa20/12)\n",
    "            \n",
    "    Returns:\n",
    "        512 bits (16 words 32 bits)\n",
    "    \"\"\"\n",
    "    \n",
    "    i = x\n",
    "    \n",
    "    for _ in range(0, ROUNDS, 2): \n",
    "        round(i)\n",
    "    return i\n"
   ]
  },
  {
   "cell_type": "markdown",
   "id": "d425f151",
   "metadata": {},
   "source": [
    "### Psudorandom generator"
   ]
  },
  {
   "cell_type": "code",
   "execution_count": 23,
   "id": "c90b0263",
   "metadata": {},
   "outputs": [],
   "source": [
    "L = 1 # \n",
    "def G(s: int, n: int):\n",
    "    r = [0]*L\n",
    "\n",
    "    for j in range(L):\n",
    "        h = pad(s, j, n) # 512 bits\n",
    "        pi = perm(h) # 512 bits\n",
    "\n",
    "        r[j] = [0]*16\n",
    "        for i in range(16):\n",
    "           r[j] = from_words(pi, 32) + from_words(h, 32)\n",
    "           \n",
    "    return r"
   ]
  },
  {
   "cell_type": "markdown",
   "id": "d5311493",
   "metadata": {},
   "source": [
    "### Example "
   ]
  },
  {
   "cell_type": "code",
   "execution_count": 33,
   "id": "af0499ac",
   "metadata": {},
   "outputs": [
    {
     "data": {
      "text/plain": [
       "'ôFInòÛ\\x84\\x16*\\x9d\\x87³ê\\x9c \\x0c¢\\x19_wëUéf@\\x1f¬\\x13\\x7fÒ\\x05Zl¢¡\\x89þ/ÿdr\\x99PnÅnè\\rp\\x1fz,\\x0bí\\x16>\\x93öÂÜ\\x17OO_'"
      ]
     },
     "execution_count": 33,
     "metadata": {},
     "output_type": "execute_result"
    }
   ],
   "source": [
    "k = G(0x112233445566778899aabbccddeeff00, 0x0123456789abcdef)[0]\n",
    "m = text_to_int(\"Hello word!\")\n",
    "c = m ^ k\n",
    "int_to_text(c)"
   ]
  },
  {
   "cell_type": "markdown",
   "id": "f59b775d",
   "metadata": {},
   "source": [
    "## ChaCha"
   ]
  },
  {
   "cell_type": "code",
   "execution_count": 12,
   "id": "98618e45-4f6f-4843-9010-a3584f07a757",
   "metadata": {},
   "outputs": [],
   "source": [
    "def QR_chacha(a, b, c, d):\n",
    "    a = sum(a, b)\n",
    "    d = d ^ a \n",
    "    d = rot(d, 16)\n",
    "\n",
    "    c = sum(c, d)\n",
    "    b = b ^ c\n",
    "    b = rot(b, 12)\n",
    "\n",
    "    a = sum(a, b)\n",
    "    \n",
    "    return a, b, c, d"
   ]
  },
  {
   "cell_type": "markdown",
   "id": "d2800705",
   "metadata": {},
   "source": [
    "## References\n",
    "- Class notes \n",
    "- [Salsa20 specification - Daniel J. Bernstein](http://cr.yp.to/snuffle/spec.pdf)\n",
    "- [D. Boneh and Victor Shoup. A Graduate Course in Applied Cryptography.\n",
    "Available](https://toc.cryptobook.us/)"
   ]
  }
 ],
 "metadata": {
  "kernelspec": {
   "display_name": "Python 3 (ipykernel)",
   "language": "python",
   "name": "python3"
  },
  "language_info": {
   "codemirror_mode": {
    "name": "ipython",
    "version": 3
   },
   "file_extension": ".py",
   "mimetype": "text/x-python",
   "name": "python",
   "nbconvert_exporter": "python",
   "pygments_lexer": "ipython3",
   "version": "3.12.1"
  }
 },
 "nbformat": 4,
 "nbformat_minor": 5
}
