{
 "cells": [
  {
   "cell_type": "markdown",
   "id": "d79655ed",
   "metadata": {},
   "source": [
    "# Salsa"
   ]
  },
  {
   "cell_type": "code",
   "execution_count": 36,
   "id": "b94a7499",
   "metadata": {},
   "outputs": [],
   "source": [
    "from typing import Tuple, List\n",
    "from scripts.utils import *\n",
    "from scripts.math import sum32"
   ]
  },
  {
   "cell_type": "markdown",
   "id": "22e60690",
   "metadata": {},
   "source": [
    "## Pad function"
   ]
  },
  {
   "cell_type": "code",
   "execution_count": 5,
   "id": "d637713d",
   "metadata": {},
   "outputs": [],
   "source": [
    "_c = [0x61707865, 0x3320646e, 0x79622d32, 0x6b206574]\n",
    "\n",
    "def pad(s: int, j: int, n: int) -> int:\n",
    "    \"\"\"A padding function that combies a 256 bits seed s with a 64 bit counter j (j0, j1 of 32 bits) and a b4 bit nonce (n0, n1 of 32 bits) to form a 512 bit block denoted x0, ..., x15 of 32 bits\n",
    "    \n",
    "    Args:\n",
    "        s: Seed (256 bits, 8 words of 32 bits)\n",
    "        j: counter (64 bits)\n",
    "        n: Nonce (64 bits)\n",
    "\n",
    "    Returns:\n",
    "        512 bits (16 words 32 bits)\n",
    "    \"\"\"\n",
    "\n",
    "    # Convert to words\n",
    "    s = get_words(s, 32, 8)\n",
    "    j = get_words(j, 32, 2)\n",
    "    n = get_words(n, 32, 2)\n",
    "\n",
    "    return [\n",
    "        _c[0], s[0], s[1], s[2],\n",
    "        s[3], _c[1], n[0], n[1],\n",
    "        j[0], j[1], _c[2], s[4],\n",
    "        s[5], s[6], s[7], _c[3]\n",
    "    ]\n"
   ]
  },
  {
   "cell_type": "code",
   "execution_count": 6,
   "id": "37f48500",
   "metadata": {},
   "outputs": [],
   "source": [
    "assert(\n",
    "    pad(0x112233445566778899aabbccddeeff00,\n",
    "        0x0123456789abcdef,\n",
    "        0xfedcba9876543210) == \n",
    "        \n",
    "        [0x61707865, 0x0, 0x0, 0x0, \n",
    "         0x0, 0x3320646e, 0xfedcba98, 0x76543210,\n",
    "         0x1234567, 0x89abcdef, 0x79622d32, 0x11223344,\n",
    "         0x55667788, 0x99aabbcc, 0xddeeff00, 0x6b206574]\n",
    "), \"Error\""
   ]
  },
  {
   "cell_type": "code",
   "execution_count": 7,
   "id": "9ee70939",
   "metadata": {},
   "outputs": [],
   "source": [
    "assert(\n",
    "    pad(0x47f515b1dd45f8d5aceea73b52971be21f7b4b3355a35fd6a2799898ed2f8c97,\n",
    "    0x722d9d570ac23201,\n",
    "    0xed539cd99e1d2f20) ==\n",
    "    \n",
    "    [0x61707865, 0x47f515b1, 0xdd45f8d5, 0xaceea73b,\n",
    "    0x52971be2, 0x3320646e, 0xed539cd9, 0x9e1d2f20,\n",
    "    0x722d9d57, 0x0ac23201, 0x79622d32, 0x1f7b4b33,\n",
    "    0x55a35fd6, 0xa2799898, 0xed2f8c97, 0x6b206574]\n",
    "), \"Error\""
   ]
  },
  {
   "cell_type": "markdown",
   "id": "bfe81e4e",
   "metadata": {},
   "source": [
    "## Public permutation\n",
    "\n",
    "The public permutation is constructed by iterating a simple permutation a fixed number of times. "
   ]
  },
  {
   "cell_type": "markdown",
   "id": "e3f03a84",
   "metadata": {},
   "source": [
    "### Quarterround function\n",
    "\n",
    "- Input: 4-word sequence \n",
    "- Output: 4-word sequence \n",
    "\n",
    "The entire function is invertible."
   ]
  },
  {
   "cell_type": "code",
   "execution_count": 8,
   "id": "fe62a9d5-3751-4ece-8ac0-0650049dea30",
   "metadata": {},
   "outputs": [],
   "source": [
    "def rot(w: int, r: int) -> int: \n",
    "    \"\"\"Rotate lest for 32 bits\n",
    "\n",
    "    Args:\n",
    "        w: word to rotate\n",
    "        r: I dont remember\n",
    "    \"\"\"\n",
    "\n",
    "    mask = 0xffffffff\n",
    "    return ((w << r) & mask) | (w >> (32 - r)) "
   ]
  },
  {
   "cell_type": "code",
   "execution_count": 11,
   "id": "c18b2c37-a56b-42c3-b1a5-8baff4a2318e",
   "metadata": {},
   "outputs": [],
   "source": [
    "def QR(a: int, b: int, c: int, d: int) -> Tuple[int, int, int, int]: \n",
    "    # Quater round\n",
    "    b = b ^ rot(sum32(a, d), 7)\n",
    "    c = c ^ rot(sum32(b, a), 9)\n",
    "    d = d ^ rot(sum32(c, b), 13)\n",
    "    a = a ^ rot(sum32(d, c), 18)\n",
    "    \n",
    "    return a, b, c, d\n"
   ]
  },
  {
   "cell_type": "code",
   "execution_count": 12,
   "id": "ec092e65",
   "metadata": {},
   "outputs": [],
   "source": [
    "# Test cases (from the Salsa20 specification)\n",
    "\n",
    "assert(QR(0x00000000, 0x00000000, 0x00000000, 0x00000000)\n",
    "== (0x00000000, 0x00000000, 0x00000000, 0x00000000)), \"Faild test 1\"\n",
    "assert(QR(0x00000001, 0x00000000, 0x00000000, 0x00000000)\n",
    "== (0x08008145, 0x00000080, 0x00010200, 0x20500000)), \"Failed test 2\"\n",
    "assert(QR(0x00000000, 0x00000001, 0x00000000, 0x00000000)\n",
    "== (0x88000100, 0x00000001, 0x00000200, 0x00402000)), \"Failed test 3\"\n",
    "assert(QR(0x00000000, 0x00000000, 0x00000001, 0x00000000)\n",
    "== (0x80040000, 0x00000000, 0x00000001, 0x00002000)), \"Failed test 4\"\n",
    "assert(QR(0x00000000, 0x00000000, 0x00000000, 0x00000001)\n",
    "== (0x00048044, 0x00000080, 0x00010000, 0x20100001)), \"Failed test 5\"\n",
    "assert(QR(0xe7e8c006, 0xc4f9417d, 0x6479b4b2, 0x68c67137)\n",
    "== (0xe876d72b, 0x9361dfd5, 0xf1460244, 0x948541a3)), \"Failed test 6\"\n",
    "assert(QR(0xd3917c5b, 0x55f1c407, 0x52a58a7a, 0x8f887a3b)\n",
    "== (0x3e2f308c, 0xd90a8f36, 0x6ab2a923, 0x2883524c)), \"Failed test 7\""
   ]
  },
  {
   "cell_type": "code",
   "execution_count": 15,
   "id": "6f42df54",
   "metadata": {},
   "outputs": [],
   "source": [
    "assert(\n",
    "    QR(0xc2619378, 0xecdaec96, 0xe62bd0c8, 0x2b61be56) ==\n",
    "    (0x21158c0a, 0x0d720be0, 0x41156157, 0xc6c75786)\n",
    "), \"Error\""
   ]
  },
  {
   "cell_type": "markdown",
   "id": "ae7b49f6",
   "metadata": {},
   "source": [
    "### Round Function"
   ]
  },
  {
   "cell_type": "code",
   "execution_count": 16,
   "id": "6501f57b",
   "metadata": {},
   "outputs": [],
   "source": [
    "def round(i: List[int]):\n",
    "    # Doble round\n",
    "        \n",
    "    # Odd round (column round)\n",
    "    i[0], i[4], i[8], i[12] = QR(i[0], i[4], i[8], i[12]) \n",
    "    i[5], i[9], i[13], i[1] = QR(i[5], i[9], i[13], i[1]) \n",
    "    i[10], i[14], i[2], i[6] = QR(i[10], i[14], i[2], i[6]) \n",
    "    i[15], i[3], i[7], i[11] = QR(i[15], i[3], i[7], i[11]) \n",
    "\n",
    "    # Even round (row round)\n",
    "    i[0], i[1], i[2], i[3] = QR(i[0], i[1], i[2], i[3]) \n",
    "    i[5], i[6], i[7], i[4] = QR(i[5], i[6], i[7], i[4]) \n",
    "    i[10], i[11], i[8], i[9] = QR(i[10], i[11], i[8], i[9])\n",
    "    i[15], i[12], i[13], i[14] = QR(i[15], i[12], i[13], i[14])\n",
    "\n",
    "    return i"
   ]
  },
  {
   "cell_type": "code",
   "execution_count": 80,
   "id": "feef4a3f",
   "metadata": {},
   "outputs": [],
   "source": [
    "assert(round([0x00000001, 0x00000000, 0x00000000, 0x00000000,\n",
    "0x00000000, 0x00000000, 0x00000000, 0x00000000,\n",
    "0x00000000, 0x00000000, 0x00000000, 0x00000000,\n",
    "0x00000000, 0x00000000, 0x00000000, 0x00000000]) == [0x8186a22d, 0x0040a284, 0x82479210, 0x06929051,\n",
    "0x08000090, 0x02402200, 0x00004000, 0x00800000,\n",
    "0x00010200, 0x20400000, 0x08008104, 0x00000000,\n",
    "0x20500000, 0xa0000040, 0x0008180a, 0x612a8020]), \"Failed test 1\"\n",
    "\n",
    "assert(round([0xde501066, 0x6f9eb8f7, 0xe4fbbd9b, 0x454e3f57,\n",
    "0xb75540d3, 0x43e93a4c, 0x3a6f2aa0, 0x726d6b36,\n",
    "0x9243f484, 0x9145d1e8, 0x4fa9d247, 0xdc8dee11,\n",
    "0x054bf545, 0x254dd653, 0xd9421b6d, 0x67b276c1]) == [0xccaaf672, 0x23d960f7, 0x9153e63a, 0xcd9a60d0,\n",
    "0x50440492, 0xf07cad19, 0xae344aa0, 0xdf4cfdfc,\n",
    "0xca531c29, 0x8e7943db, 0xac1680cd, 0xd503ca00,\n",
    "0xa74b2ad6, 0xbc331c5c, 0x1dda24c7, 0xee928277]), \"Failed test 2\""
   ]
  },
  {
   "cell_type": "markdown",
   "id": "5f749ca8",
   "metadata": {},
   "source": [
    "### The perm function"
   ]
  },
  {
   "cell_type": "code",
   "execution_count": 110,
   "id": "fe667caa-cf21-4f43-9167-9c0e5c7d9fb4",
   "metadata": {},
   "outputs": [],
   "source": [
    "\n",
    "def perm(x: int, ROUNDS: int = 20): \n",
    "    \"\"\"Permutation \n",
    "\n",
    "    Args:\n",
    "        x: 512 bits (16 words 32 bits)\n",
    "        ROUNDS: Number of rounds\n",
    "            - Default 20 (salsa20/20)\n",
    "            - 8 (salsa20/8)\n",
    "            - 12 (salsa20/12)\n",
    "            \n",
    "    Returns:\n",
    "        512 bits (16 words 32 bits)\n",
    "    \"\"\"\n",
    "    \n",
    "    assert(ROUNDS in [8, 12, 20]), \"Invalid number of rounds\"\n",
    "\n",
    "    # i = get_words(x, 32, 16)\n",
    "    i = x.copy()\n",
    "    \n",
    "    for j in range(0, ROUNDS, 2): \n",
    "        round(i)\n",
    "\n",
    "    return i\n"
   ]
  },
  {
   "cell_type": "code",
   "execution_count": 137,
   "id": "669ca8be",
   "metadata": {},
   "outputs": [],
   "source": [
    "s = 0x47f515b1dd45f8d5aceea73b52971be21f7b4b3355a35fd6a2799898ed2f8c97\n",
    "j = 0x722d9d570ac23201\n",
    "n = 0xed539cd99e1d2f20\n",
    "\n",
    "_pad = pad(s, j, n)\n",
    "\n",
    "assert(from_words(perm(_pad), 32) == 0x4ae1c9a7e960b635dc60a70e05f3a06b6d5333b853e0b60d7fe901e08289149820c71b7f7bf63cd69222987510bb60608551ec51c1e23b31da929437ccb2cb58)"
   ]
  },
  {
   "cell_type": "markdown",
   "id": "d425f151",
   "metadata": {},
   "source": [
    "## Psudorandom generator"
   ]
  },
  {
   "cell_type": "code",
   "execution_count": 34,
   "id": "c90b0263",
   "metadata": {},
   "outputs": [],
   "source": [
    "L = 1 # \n",
    "def G(s: int, n: int):\n",
    "    r = [0]*L\n",
    "\n",
    "    for j in range(L):\n",
    "        h = pad(s, j, n) # 512 bits\n",
    "        pi = perm(h) # 512 bits\n",
    "\n",
    "        r[j] = [0]*16\n",
    "        for i in range(16):\n",
    "           r[j] = get_words(pi, 32) + get_words(h, 32)\n",
    "           \n",
    "    return r"
   ]
  },
  {
   "cell_type": "markdown",
   "id": "d5311493",
   "metadata": {},
   "source": [
    "## Example "
   ]
  },
  {
   "cell_type": "code",
   "execution_count": null,
   "id": "af0499ac",
   "metadata": {},
   "outputs": [],
   "source": [
    "k = G(0x112233445566778899aabbccddeeff00, 0x0123456789abcdef)[0]\n",
    "m = text_to_int(\"Hello word!\")\n",
    "c = m ^ k\n",
    "assert(c ^ k == m), \"Error\""
   ]
  },
  {
   "cell_type": "markdown",
   "id": "d2800705",
   "metadata": {},
   "source": [
    "## References\n",
    "- Class notes \n",
    "- [Salsa20 specification - Daniel J. Bernstein](http://cr.yp.to/snuffle/spec.pdf)\n",
    "- [D. Boneh and Victor Shoup. A Graduate Course in Applied Cryptography.\n",
    "Available](https://toc.cryptobook.us/)"
   ]
  }
 ],
 "metadata": {
  "kernelspec": {
   "display_name": "Python 3 (ipykernel)",
   "language": "python",
   "name": "python3"
  },
  "language_info": {
   "codemirror_mode": {
    "name": "ipython",
    "version": 3
   },
   "file_extension": ".py",
   "mimetype": "text/x-python",
   "name": "python",
   "nbconvert_exporter": "python",
   "pygments_lexer": "ipython3",
   "version": "3.12.1"
  }
 },
 "nbformat": 4,
 "nbformat_minor": 5
}
