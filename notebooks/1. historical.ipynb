{
 "cells": [
  {
   "cell_type": "markdown",
   "id": "0ad4a046-f229-4ce9-b2b0-9296a1edf85c",
   "metadata": {},
   "source": [
    "# Historical Ciphers"
   ]
  },
  {
   "cell_type": "markdown",
   "id": "ae51a58f-081b-4b8a-9287-6a2f93bae5ba",
   "metadata": {
    "jp-MarkdownHeadingCollapsed": true
   },
   "source": [
    "## Cesar Cipher"
   ]
  },
  {
   "cell_type": "code",
   "execution_count": 13,
   "id": "ad3fa502-3088-481c-a2df-4daa860f5e38",
   "metadata": {},
   "outputs": [],
   "source": [
    "ABC = \"a,b,c,d,e,f,g,h,i,j,k,l,m,n,o,p,q,r,s,t,u,v,w,x,y,z\"\n",
    "LETTERS = [letter.upper() for letter in ABC.split(\",\")]"
   ]
  },
  {
   "cell_type": "code",
   "execution_count": 14,
   "id": "54dbe5db-910d-4210-bb54-b1492663feec",
   "metadata": {},
   "outputs": [],
   "source": [
    "class CesarCipher: \n",
    "\n",
    "    def __init__(self, k) -> None: \n",
    "        self.k = k % 26 \n",
    "\n",
    "    def encrypt(self, m) -> str:\n",
    "        c = ''\n",
    "        for m_i in m: \n",
    "            r_i = LETTERS.index(m_i)\n",
    "            c += LETTERS[(r_i + self.k) % 26]\n",
    "        return c\n",
    "\n",
    "    def decrypt(self, c) -> str:\n",
    "        m = ''\n",
    "        for c_i in c: \n",
    "            r_i = LETTERS.index(c_i)\n",
    "            m += LETTERS[(r_i - self.k) % 26]\n",
    "        return m"
   ]
  },
  {
   "cell_type": "code",
   "execution_count": 16,
   "id": "e3b4bc6e-dcfa-4282-aa22-5628638808d8",
   "metadata": {},
   "outputs": [
    {
     "data": {
      "text/plain": [
       "'CRYPTOGRAPHY'"
      ]
     },
     "execution_count": 16,
     "metadata": {},
     "output_type": "execute_result"
    }
   ],
   "source": [
    "cipher = CesarCipher(7)\n",
    "cipher.decrypt(cipher.encrypt(\"CRYPTOGRAPHY\"))"
   ]
  },
  {
   "cell_type": "markdown",
   "id": "c3e2a6cb-59ef-44e7-ab25-fdb16e725dbe",
   "metadata": {},
   "source": [
    "## Substitution Cipher"
   ]
  },
  {
   "cell_type": "code",
   "execution_count": 22,
   "id": "2b9a431b-aeb0-410d-adf2-7b5079441d31",
   "metadata": {},
   "outputs": [],
   "source": [
    "perm_abc = \"D,I,Q,M,T,B,Z,S,Y,J,V,O,F,E,R,J,A,U,W,P,X,H,L,C,N,G\".split(\",\")\n",
    "perm = dict(zip(LETTERS, perm_abc))"
   ]
  },
  {
   "cell_type": "code",
   "execution_count": 34,
   "id": "f0f15e3e-63d6-4bf0-92b8-bd366b0646de",
   "metadata": {},
   "outputs": [],
   "source": [
    "class SubstitutionCipher: \n",
    "\n",
    "    def __init__(self, perm) -> None: \n",
    "        self.perm = perm\n",
    "\n",
    "    def encrypt(self, m) -> None:\n",
    "        c = ''\n",
    "        for m_i in m:\n",
    "            c += self.perm[m_i]\n",
    "        return c\n",
    "        \n",
    "    def decrypt(self, c):\n",
    "        m = ''\n",
    "        for c_i in c: \n",
    "            r_i = list(self.perm.values()).index(c_i)\n",
    "            m += list(self.perm.keys())[r_i]\n",
    "            \n",
    "        return m"
   ]
  },
  {
   "cell_type": "code",
   "execution_count": 35,
   "id": "e53e3304-e510-41bf-8cc5-bdc38da01bf0",
   "metadata": {},
   "outputs": [
    {
     "data": {
      "text/plain": [
       "'CRYJTOGRAJHY'"
      ]
     },
     "execution_count": 35,
     "metadata": {},
     "output_type": "execute_result"
    }
   ],
   "source": [
    "cipher = SubstitutionCipher(perm)\n",
    "cipher.decrypt(cipher.encrypt(\"CRYPTOGRAPHY\"))"
   ]
  }
 ],
 "metadata": {
  "kernelspec": {
   "display_name": "Python 3 (ipykernel)",
   "language": "python",
   "name": "python3"
  },
  "language_info": {
   "codemirror_mode": {
    "name": "ipython",
    "version": 3
   },
   "file_extension": ".py",
   "mimetype": "text/x-python",
   "name": "python",
   "nbconvert_exporter": "python",
   "pygments_lexer": "ipython3",
   "version": "3.10.13"
  }
 },
 "nbformat": 4,
 "nbformat_minor": 5
}
