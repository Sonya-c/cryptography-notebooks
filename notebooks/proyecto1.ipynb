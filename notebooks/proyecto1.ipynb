{
  "nbformat": 4,
  "nbformat_minor": 0,
  "metadata": {
    "colab": {
      "provenance": [],
      "include_colab_link": true
    },
    "kernelspec": {
      "name": "python3",
      "display_name": "Python 3"
    },
    "language_info": {
      "name": "python"
    }
  },
  "cells": [
    {
      "cell_type": "markdown",
      "metadata": {
        "id": "view-in-github",
        "colab_type": "text"
      },
      "source": [
        "<a href=\"https://colab.research.google.com/github/Sonya-c/cryptography/blob/main/notebooks/proyecto1.ipynb\" target=\"_parent\"><img src=\"https://colab.research.google.com/assets/colab-badge.svg\" alt=\"Open In Colab\"/></a>"
      ]
    },
    {
      "cell_type": "markdown",
      "source": [
        "# **${\\Large\\text{Criptografía 2024-10 - Proyecto 1}}$**\n",
        "\n",
        "![uninorte_logo.jpg](data:image/jpeg;base64,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)\n",
        "\n",
        "---"
      ],
      "metadata": {
        "id": "4HhZlMCA1Brc"
      }
    },
    {
      "cell_type": "markdown",
      "source": [
        "## **Nombre y Códigos de los Estudiantes:**\n",
        "- Estudiante 1\n",
        "- Estudiante 2\n",
        "- Estudiante 3\n",
        "- Estudiante 4"
      ],
      "metadata": {
        "id": "SjGSdZxP4sQt"
      }
    },
    {
      "cell_type": "markdown",
      "source": [
        "## **Indicaciones:**\n",
        "\n",
        "1. **El proyecto debe ser entregado a más tardar a las 11:59 p.m. del domingo 31 de marzo del 2024**, después de esto el enlace para enviar el proyecto se cerrará. Asegúrese de enviar el proyecto antes de la hora de finalización, no se aceptarán proyectos enviados por ningún otro medio.\n",
        "2. El proyecto debe ser realizado en equipos de **4 integrantes**.\n",
        "3. Cree una copia de este archivo de Google Colab.\n",
        "4. Utilice la librería `pycryptodome` para el desarrollo del proyecto.\n",
        "  - Puede instalarla ejecutando el siguiente código en una celda del archivo de Google Colab: `!pip install pycryptodome`.\n",
        "5. Únicamente envíe el cuaderno de Jupyter con los códigos, las respuestas y el informe correspondiente."
      ],
      "metadata": {
        "id": "1dF0EGFk5zxa"
      }
    },
    {
      "cell_type": "markdown",
      "source": [
        "## **Enunciado:**\n",
        "El objetivo de este proyecto es intentar recuperar la llave secreta de un cifrador de bloque, en específico AES-256, en 4 escenarios diferentes listados a continuación:\n",
        "1. Llave con 16 bits modificados (6.25% del total de bits).\n",
        "2. Llave con 32 bits modificados (12.5% del total de bits).\n",
        "3. Llave con 64 bits modificados (25% del total de bits).\n",
        "4. Llave con 128 bits modificados (50% del total de bits).\n",
        "\n",
        "Para ello se ofrecen 10 pares de textos planos / textos cifrados $(m_i, c_i), 0 \\le i < 10$, que se deben utilizar para verificar cada una de las posibles llaves. Los textos cifrados se generaron utilizando el modo de operación CBC (Cipher Block Chaining). Además, es importante mencionar que el relleno (padding) de los mensajes $m_i$ se realizó con la función `pad` de `Crypto.Util.Padding`.\n",
        "\n",
        "Las llaves modificadas fueron obtenidas luego de un proceso de decadencia (decay) de las llaves originales, i.e., solo se modificaron bits 1 por bits 0. Adicionalmente, se provee una secuencia de números en la que cada dígito representa la cantidad de bits que decayeron en el byte correspondiente de la llave.\n",
        "\n",
        "Una vez recuperada la llave original, se debe descifrar un texto cifrado adicional $c$ obtenido en modo CBC.\n",
        "\n",
        "Finalmente, se debe realizar un informe (puede ser en el mismo Jupyter Notebook / Google Colab) dónde:\n",
        "1. Se expliquen los métodos / estrategias utilizados para obtener las llaves originales y descifrar el texto cifrado adicional.\n",
        "2. Se realice un análisis de los tiempos de ejecución de los métodos propuestos para la recuperación de las llaves.\n",
        "3. Se realice un breve análisis de seguridad del criptosistema respecto a las llaves, contra un ataque en un esquema de decadencia (decay) como el realizado en este proyecto.\n",
        "4. Se exponga y justifique los contratiempos y motivos en caso de no recuperar alguna de las llaves originales."
      ],
      "metadata": {
        "id": "329uSSwldlcY"
      }
    },
    {
      "cell_type": "markdown",
      "source": [
        "## **Caso 1 (16 bits modificados - 6.25%):**"
      ],
      "metadata": {
        "id": "PWaVAuEMqU7u"
      }
    },
    {
      "cell_type": "code",
      "source": [
        "key, dist = ('e6a910750b03e4c800c0c04d8544cf2cc470c5f8d668b2d7cd6387bc8ca84ad3', '10011011001000001110001010012011')\n",
        "c = '6f25b6fd2f9c0d65c1f7f3f11b0fd0a8b8876e69fbba37e2f17ca72f60b711aa934db57c895ece4e6e965e5bfc86fcf56fc9785dcda9a604f0ecb5944adf832b0f4894aecc5c27dab42960f0ce98b811f20350d8ed72de6e679039eed6b2254f12a91daf57b54a4256054b36b4ecbf5f174b618472c4ef241836cc8b83d07c2a'"
      ],
      "metadata": {
        "id": "asSGbj4SwKR7"
      },
      "execution_count": null,
      "outputs": []
    },
    {
      "cell_type": "code",
      "source": [
        "MSG_PAIRS_1 = [\n",
        "    (b'The most important words a man can say are, \"I will do better\".', 'a1e796da5a4a864aabebb9a348b684686e2f5ca3938834856a9653f4791be390b2c8119375717f37297ce18c546727a8718937bfa0f9aec150eb10085775b50e7bc37846cc804fbfa1b9d307f97f7804'),\n",
        "    (b'The purpose of a storyteller is not to tell you how to think, but to give you questions to think upon.', '8706f4fd4e7f1f20d5d1702fbcda669b8f6a9ce206e1d3ca8eb949a6a27b83d213f6a001e6aa9cdab83d19c2ff5143c5dbed6a17d1f94bef88231d56f070d96e15491d28ca33d05a484976d8b4940339f5d28ddbddec878ea02a129aa56faebadb020c485b1399367f2890e5e571a7e73e4d2716e4cd71e5a97442145418f612'),\n",
        "    (b\"It's easy to believe in something when you win all the time... The losses are what define a man's faith.\", '45d9814d656d847737b8447cff70d6b0d2cfd623085d8150c81b9b3bdd384746ac0e267b858a2bd8362f8e4a24f2dc128225f2ae3da9f857e5e3f3c7ee571d2b20b66d714e4b3f5297aa41cb06f0927be78db2188283746f5cd377e9a54bbe0ec2868c7398ee41152942570ad29a7dcaf358ff45a30993b4e91d6037ca2fe4c0'),\n",
        "    (b'Sometimes the prize is not worth the costs.', 'd09c3f0c3ccc5e49fd126f2fc4ce5068105a3beeb26dc66e6c332240b4e30917a5001204f58eba0beb2897fdc6ef19b608d0739eee3fa4b9867a39764a2227d0'),\n",
        "    (b'Sometimes a hypocrite is nothing more than a man in the process of changing.', '889ed26f7615599bed86684af0d2606ab49f2a52efea712f3dff7c3ec37420d2b10ab1f42679363125fb81410e60e34f7c63c26a4c47b6232af542e36bbd3604e31b52db19f07e8cb19e518f32e7b7b415ee757a2bc9186cd91b52b7fb65a05c'),\n",
        "    (b'Our belief is often strongest when it should be weakest. That is the nature of hope.', 'bf887c305b4771286a050720fe68def9057229245510d6401517262079d96a792d8746b295208e56b5ad12731c0c9ff6ef5c52022c887f40fa935790573040a5bdd19d73d7d92f63724232f870844b059f1f282061867d01fae85e2356a4554acf08d8bc61e798e219c6c52b025e997f'),\n",
        "    (b\"The most important step a man can take it's not the first one, it's the next one.\", 'ba1ea23377644394f96e4c19bbf7c03a23b22dd3757c38148b0bc98064708fc88550b46f89f77cfdf265eb35af82b4b526264bc722e85760aca40b1707082da5b5e7903540a3432a130a7b2655c855a06bb0005f5d500d4e5664ae80acb03f4f7c5dae03b8a5ed0bc60c3227212156c9'),\n",
        "    (b'Somebody has to start. Somebody has to step forward and do what is right, because it is right.', '879659d6efc8fdb116110068266da5068c6335d51152f041d47f1f03d6a35230c7eb10309bf739b3780b9a59ae367813f998e1e6d84db78a2d06517529234d2deeb09cc9ca82dcc1a5ffd1344c3e0ed9d95d7714444476ec7ed5f9237af517409df4fbf974fbc8e00cd140878cb79028'),\n",
        "    (b\"Accept the pain, but don't accept that you deserved it.\", '7e3320f30329c8211ee6bf3fe6afb06c80e575c597fabf9926cabfa5b2a202d0cd294865326e1289b01343c1537aefe251974dfda261c245acc75daa90b0148fc90c4288cb89eca1f442630927921778'),\n",
        "    (b\"There's always another secret.\", 'e6a5848b0de3b162f98e23e56972bff6de0a7305c41ce921ec56c19af4921ed367ecc25305544a5c722640dbfdf27105')\n",
        "]"
      ],
      "metadata": {
        "id": "2mLPt1HgNeAV"
      },
      "execution_count": null,
      "outputs": []
    },
    {
      "cell_type": "markdown",
      "source": [
        "## **Caso 2 (32 bits modificados - 12.5%):**"
      ],
      "metadata": {
        "id": "vWzJhHW2qqWV"
      }
    },
    {
      "cell_type": "code",
      "source": [
        "key, dist = ('998405615014812088ea9a8259209a264528d971501b029ef406580081241000', '01001121100103021100121011122231')\n",
        "c = 'f44c5109eb7edf7619bc6c0ddd29e6386c293c5e0e65bcf1cdb7b22fe24445df2cef9c9d8300c7000ad7fe67b253926ffab0c54d681b20237b889c1292f673b85f5aadfd587881c9bf677d5411436a82'"
      ],
      "metadata": {
        "id": "lVbt15VWwzdq"
      },
      "execution_count": null,
      "outputs": []
    },
    {
      "cell_type": "code",
      "source": [
        "MSG_PAIRS_2 = [\n",
        "    (b'The most important words a man can say are, \"I will do better\".', 'ec062d81919ed6709ef5bddf28de4144690491ac460800400cdfaae5c90f099d04ae5d6792fbb0d5d2e10387936cb5eb4f941226823a8d089c6b66cc8bb3d97c316890ec06843b021dc60c02bd9ec04f'),\n",
        "    (b'The purpose of a storyteller is not to tell you how to think, but to give you questions to think upon.', '9feb273685acd1a2d67e23ad8142f653a44f750059239b1149cd5d4b4ab4e5c577f134cecd988a4922b2c02b9dbe88905c51324745a134db9841bfb2ba7cdb2979a68ad5cf16d42e68ef5a5b13eae6b6b0aa792424b6f082fa80f030b7a4c4941b659902a245d5a01993a6ea9c83a95926fdeb1cc56d5d3ff9163173a6cea928'),\n",
        "    (b\"It's easy to believe in something when you win all the time... The losses are what define a man's faith.\", '2d7027a19d30960a8bd2b12d5ae195b61b449fb02d246974c81ca44ea050b7813c92cb82a68e489bb622e46a14a72c1159b466f237882204f75ab56169c3ef0390a12e5ffdc3d355697075145375f5d1b546b130739a5552922475c45eea7e2894ea47372b46fdc5c1fb2c7b025013b01ce0556e673f43d50d497d0ed6107482'),\n",
        "    (b'Sometimes the prize is not worth the costs.', 'a3f5ace24555fe6ff0fa0e33517eba7bee70cf242d6579b28e63fd8c8e12866e80f8328c94c5713ff5cefd3bb7369d1ef06933e4304d558fa52c58951b65a982'),\n",
        "    (b'Sometimes a hypocrite is nothing more than a man in the process of changing.', 'f39bc8635cc38aa729e2fe806805322e6118676c65c26234d39060dd43f18208739c6d14d8bb410083f984646bcc4d61553a5629689c1f46f3ed3cf838c31505fecc916a3b46a484b960aeb6e350d521486044dfd23a32efedd46a5206b05a6b'),\n",
        "    (b'Our belief is often strongest when it should be weakest. That is the nature of hope.', '9075304ed551500510015811c5db6bacb2cf4c8f384f0053787f28a3c5e0948726a88aedc0a07b1da236e4ec1b59a2eb10f1073d4fc4bc72d0c4a496c98137cddbc32ea538bdf1d380323c98b78ac1f53752003e22212bb168dcad05610b6d1ed69a8c6f35742abd0e1d693a90d3b0ac'),\n",
        "    (b\"The most important step a man can take it's not the first one, it's the next one.\", '4a612cd2c8fdef456206ffce68d39cb49d0d57b424b1f730f38507c7ddd8bea393870bc1da998a8098e3ac0aec78bf05b6a19ccaf2caeeb71546d670c6f24da7f8889ef556e7c339bf7ab78389f8dd10c3ac8992effef6be4fcff2d3836fe8c2eee7eba701ecc5bfff906079dd8f05a2'),\n",
        "    (b'Somebody has to start. Somebody has to step forward and do what is right, because it is right.', 'd450af52af612b930e1dc25a2f225fb11e820191a8501769fdb99b363b3b7aca01f5980dec8ff569224848e304f0d4e109b7f26ea581a6bee58c1893939c1537c226939cf87005b6b72af6cfca0392e75d6f4891e28dde2bf714cbe2e197e768b85d3330dfa6e165c2dc97f94236ae40'),\n",
        "    (b\"Accept the pain, but don't accept that you deserved it.\", '98d3092b52af22f68cd22cb72db63aa747f5f94707be6bfb1be033548aa8a8201dd2d9606eb20ff0dfc74cffde83da1b238bef6eaf2d0094ac8c942bf4bcb25eb15670c25aca8d6c0dbee88a62a2c6a0'),\n",
        "    (b\"There's always another secret.\", '5363285b8ad921567d98818cba24b0f664b7447735a30770a6845f966e80a38cef05a2af91d10768ffc3c62d2de78b82')\n",
        "]"
      ],
      "metadata": {
        "id": "1vpAYrm962Os"
      },
      "execution_count": null,
      "outputs": []
    },
    {
      "cell_type": "markdown",
      "source": [
        "## **Caso 3 (64 bits modificados - 25%):**"
      ],
      "metadata": {
        "id": "4H2nGr3gqqpc"
      }
    },
    {
      "cell_type": "code",
      "source": [
        "key, dist = ('828000c00050093cac15d4081a214240ea440800042084c02a91810400030010', '22413222211121120124413200415332')\n",
        "c = '48a099e38e927482da3933f73779336021e9f7756a793126c72159d043a74850a706f62d35bd67ef742c6dd8c3196b42d9e44af575b18ad1f86bacd167380f88942bd813e5939533d95c136d800c3274c54d131706be4e82c2f8ff775ac84e06dfc72e8d3cf968a8d42c516e455f511e'"
      ],
      "metadata": {
        "id": "GNzlm7B3w_qF"
      },
      "execution_count": null,
      "outputs": []
    },
    {
      "cell_type": "code",
      "source": [
        "MSG_PAIRS_3 = [\n",
        "    (b'The most important words a man can say are, \"I will do better\".', 'a50aa86c29bd7ad70c9ca103a5fc39ee6fc71108b0351f7afb93b291a52ab2cdd028ad6572e7cb67bef71eb203e3f649124ca2a8e3d8da4322adb3ba86a31075d5c3aa5c0b1930924daea25d76221cf2'),\n",
        "    (b'The purpose of a storyteller is not to tell you how to think, but to give you questions to think upon.', '79c4a649c44fb46803ef26203c0e3c1ff72d237cdbb90c76231a1fb121d36e32aee7513cfdbced3d718b054c3960727e77907469348699dca0c9cf6c799c794a24e90675aae0aea4680a6c2860a8fcacfaf9a98b119bb0efad58c6caddbd518879379145faf65b0f67dbce5d9b130aecce26d812f93464a7b54c68f498848ca9'),\n",
        "    (b\"It's easy to believe in something when you win all the time... The losses are what define a man's faith.\", '0acc72d7f0bee68da5d3c3290fc7042fb756fba470d30fcb674f717ce9d3fc42721e25637dfd096bc7469b4bb35f6ac4645f0932424e27ede76561ca7cf6f0857a2e4ea5795b4883876e4268aeb31c00ef2e2fb487cea7c8c4c51feb996fbc92553bae2e51c81a8967cae618f1783011d8128de1af2981e9d4426aa05c5d598e'),\n",
        "    (b'Sometimes the prize is not worth the costs.', '15e47ab254d974757b61d83c5b25e3dc4b21854a474f86c0c23c1acca59944a612eade9bf89e7c4e60df9eb2ca2650ce385bcf56bc4aeec05fb400db1763d09c'),\n",
        "    (b'Sometimes a hypocrite is nothing more than a man in the process of changing.', '2eeb589b18c2abb4c1da4b25685aecc1d54ec450c400c0c32e1cb9ed68655edd42566a153856e569a716ec4bb28313b0a426712fd86c03c6ef3103ba6bf27822b2ad0425cad490e010cf410c759cc9d35b4d69bfb969bc301c8787808454eaa4'),\n",
        "    (b'Our belief is often strongest when it should be weakest. That is the nature of hope.', '6c9838d9fa67e7ff9c3b580547b4cd4d711369d6a4a7d05f1d4b4b661a1a932441aed2ba804708778f5af4e0ed58bc50414ac46dfb6ab7dce3b78979cc35644529b7d31fd7a4ac3ec2aa837cd996de4b6edc50ba4c7ef520d179613f8b067e1784ec23aa173b697d5b36c869cf314386'),\n",
        "    (b\"The most important step a man can take it's not the first one, it's the next one.\", '6c8b7c556edba0aa665b11d99c4576a7af6147ec2987ff78e5851958bb1108010e11396fc9adf4c1a7b1cfb0cc6423c736b6d9bb3a58d6e1e9cf849f8c1dd6aef59672ae428e78a0271be11fff52a065a25564f92c2036fae9fb8b70484a34e03c7ab2633a29ba6f5bd0fc501edaaf5d'),\n",
        "    (b'Somebody has to start. Somebody has to step forward and do what is right, because it is right.', '62b1b860b2a09910285ac7e3141a7838c2a4cf114be385a6c82712faf5934341fefe81abf87b83f4be1c3db074defc6d306c78e17506f52be01411a6c8bc0f4b57329178cb66480bb81ef0d3ddb4a8ca4cdc05502211184c3a80284c98b41e0f8e4c23cf1eeda94fc8a49e07a19910a3'),\n",
        "    (b\"Accept the pain, but don't accept that you deserved it.\", '2be0c706094608f8428a2ad3aa6f3fe9635bda748c06a9daf7264e2296ca6c51cd9febb1dae1eb63449c0928a49ad9c66fddc132f5c833a5b7c78622aecd6f729b2f62f06452598fbcca38d46ecad3d6'),\n",
        "    (b\"There's always another secret.\", '1719502922b57bb92d6dcf9f2af0c0f8f96ecf33173155e778fe9ecba3d303a76c918134eef5aa988f7f546ab7d86c2f')\n",
        "]"
      ],
      "metadata": {
        "id": "u11bfMHQqse0"
      },
      "execution_count": null,
      "outputs": []
    },
    {
      "cell_type": "markdown",
      "source": [
        "## **Caso 4 (128 bits modificados - 50%):**"
      ],
      "metadata": {
        "id": "9I6qu2n2qq9k"
      }
    },
    {
      "cell_type": "code",
      "source": [
        "key, dist = ('0101000004000004000040000001400000200000400008000200041001200004', '14673445534474344345354454223345')\n",
        "c = '491320cc6c25a8fbd853c33d94aec3016910206c5685ba5bbb5175f6370766c461216ac1dd2e8ba8d3c997c1ed43e949a93a11f1fe2df252bbc4a45744c066ea97b844bc482c415e44ac105d4d136fcf7c793d31af9d7fbb2ebb31968f47ccfe7f03ef7e87461184a1a3df247fb27841780dc3ae4a8bfb1cd6569fbfd6eec053'"
      ],
      "metadata": {
        "id": "DDvKyS9nyLgu"
      },
      "execution_count": null,
      "outputs": []
    },
    {
      "cell_type": "code",
      "source": [
        "MSG_PAIRS_4 = [\n",
        "    (b'The most important words a man can say are, \"I will do better\".', '05466b138821d2fb25f76114bbb3351ec7cbda9b0c0ec8fcec7ff12b1e17e9a2d0ece6507b4078ad83159ce1eab39bc677e152251f1b0309b6dcdfcc95e90311a0b7f4b31a324aea376575f17675677e'),\n",
        "    (b'The purpose of a storyteller is not to tell you how to think, but to give you questions to think upon.', '85f30e473abb2b17e8972cd2316b5be9bba87cfbd7635f7247de4436f72ebeb8a7f32b67dfe3b886eb7dc3091edd6d9d84f94f478add2c2f345a442d38e24bc964c1067d5f3b09a54ceae2806bc5e5f0e1f142f195d1ade9b041fcfb611bc28f3f4cef383e37e683d3be8f120a1c2653396a870fe6d5c5caaa5c70d9f5762317'),\n",
        "    (b\"It's easy to believe in something when you win all the time... The losses are what define a man's faith.\", '774be65e7f6bdfda3d0545e8894a7c36bf605d8617b7a56b6248b00ca7932f927dc6ad6f13e1a1378e687be6d330d9c87376f35aafc2994ea851d2beaf14e5e908ef0e7386b05c6108e33b1ad0fcbd9006722011c212285d26741200fa9908ecd3cc7ddc8b27259fd89713bae8ccfecc61b6da8ffab06d516f889a3d32c222f0'),\n",
        "    (b'Sometimes the prize is not worth the costs.', 'c97d24e9d2d56ca8baea37a10d674326ed1ba5371252285e33966da9a16c26fd1a79544f655e60f612e889c5ec85862e4d14b215599757de0fc9a7a0abeb6a8f'),\n",
        "    (b'Sometimes a hypocrite is nothing more than a man in the process of changing.', '87b0641ea332002e8e7052feeada137d8b370b39ebb3544479353a3727106dcdb8027264498986fd25432b77cd901beaf26c96c2af5b76a489904fe3c906cdfbec245be8682d1201294f863f23b7048ecd8084dd77fc44d7d6333a7628ab4768'),\n",
        "    (b'Our belief is often strongest when it should be weakest. That is the nature of hope.', '8e73bf1c2887ae4eed56cdd5766b02b9ce3bf16f25476aea87a5745f1a73906ff985fbfee587fef10cbf4849ff5d7e3c4725ebeeb3cd28628a6895620f85a1f471078f697abd74d2101694db228565e7dfdcea88ab4d58df46d59151532511d7d1a39a4375dd531560aafd7c0c08a9bc'),\n",
        "    (b\"The most important step a man can take it's not the first one, it's the next one.\", 'ef54590e633e8c96a44280fd4ea75220581dcc3f85275755091ade71733a933a127eb921562c335817daa4a4530ab7ebf5f7c807900ebf35a79be8bf7a7ed0d5def84feb7661c7ce77c21ee2f084ac4fdddf365d37be9c2f35615887cdb024341f2399f75a8094a7d9ec4a87bc118e82'),\n",
        "    (b'Somebody has to start. Somebody has to step forward and do what is right, because it is right.', '7d2efdc4c2e15610e0e157784ddd8bedf9ec21f6efd034893521d719666faeca12720e3c6886d7f0795188b5cd4984c45b2bf5ff0730c0e5476c1c66e4bd945ba5e30b103029a3ea7651214c59e69a8a443b2d665d88f257b9867eb89e1f964a97e7b2715d19cc1ce47a377bd2d21a0c'),\n",
        "    (b\"Accept the pain, but don't accept that you deserved it.\", 'f8086f79bbc9a14afd83a5792638ab65c014a4a80b2fefdc0c59029b02e49b1a787b0a286c3cabe7bcfd714279a336fadb94368b14f2081947bd3448f29f818a46eeea608f0b53993063d231957dc631'),\n",
        "    (b\"There's always another secret.\", '50563b11d07394dcebfcf438bd6ade441501fa748b8ec3ba975e1999722915810b0dd395ff489ca04af37bab446d3fc4')\n",
        "]"
      ],
      "metadata": {
        "id": "mrBB1c_Vqs3f"
      },
      "execution_count": null,
      "outputs": []
    }
  ]
}